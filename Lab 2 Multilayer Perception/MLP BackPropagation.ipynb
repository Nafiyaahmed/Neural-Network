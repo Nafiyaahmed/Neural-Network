{
 "cells": [
  {
   "cell_type": "code",
   "execution_count": 28,
   "metadata": {},
   "outputs": [
    {
     "name": "stdout",
     "output_type": "stream",
     "text": [
      "[[ 0.33818006  0.86465314  0.06245453  0.25938684  0.61921065]\n",
      " [ 0.31887835  0.29771713  0.76713359  0.95896444  0.87222974]\n",
      " [ 0.63998708  0.79095628  0.82255275  0.18647833  0.32397217]]\n",
      "[[ 0.06333302]\n",
      " [ 0.40274787]\n",
      " [ 0.95826144]\n",
      " [ 0.84820208]\n",
      " [ 0.73500183]]\n"
     ]
    }
   ],
   "source": [
    "import numpy as np\n",
    "from matplotlib import pyplot as plt\n",
    "\n",
    "def sigmoid(x, derive=False):\n",
    "    if derive:\n",
    "        return x * (1 - x)\n",
    "    return 1 / (1 + np.exp(-x))\n",
    "\n",
    "# Define the data set XOR\n",
    "X = np.array([\n",
    "    [1, 1, 1],\n",
    "    [1, 0, 1],\n",
    "    [0, 1, 1],\n",
    "    [0, 0, 1],\n",
    "])\n",
    "\n",
    "y = np.array([[0],\n",
    "              [1],\n",
    "              [1],\n",
    "              [0]\n",
    "             ])\n",
    "\n",
    "# Define a learning rate\n",
    "eta = 0.5\n",
    "# Define the number of epochs for learning\n",
    "epochs = 50000\n",
    "\n",
    "# Initialize the weights with random numbers\n",
    "w01 = np.random.random((len(X[0]), 5))\n",
    "w12 = np.random.random((5, 1))\n",
    "print(w01)\n",
    "print(w12)"
   ]
  },
  {
   "cell_type": "code",
   "execution_count": 3,
   "metadata": {},
   "outputs": [
    {
     "name": "stdout",
     "output_type": "stream",
     "text": [
      "Z_h= [[ 1.16089356  0.78996619]\n",
      " [ 0.66854822  0.24032131]\n",
      " [ 0.76767187  0.65979681]\n",
      " [ 0.27532653  0.11015193]]\n",
      "a_h= [[ 0.76149504  0.68782407]\n",
      " [ 0.66117801  0.55979283]\n",
      " [ 0.68301706  0.65921474]\n",
      " [ 0.56840009  0.52751017]]\n"
     ]
    }
   ],
   "source": [
    "    z_h = np.dot(X, w01)\n",
    "    print(\"Z_h=\",z_h)\n",
    "    a_h = sigmoid(z_h)\n",
    "    print(\"a_h=\",a_h)"
   ]
  },
  {
   "cell_type": "code",
   "execution_count": 6,
   "metadata": {},
   "outputs": [
    {
     "name": "stdout",
     "output_type": "stream",
     "text": [
      "Z_o= [[ 0.55821263]\n",
      " [ 0.47822088]\n",
      " [ 0.50797677]\n",
      " [ 0.41909684]]\n",
      "a_o= [[ 0.63603888]\n",
      " [ 0.61732767]\n",
      " [ 0.62433206]\n",
      " [ 0.60326711]]\n"
     ]
    }
   ],
   "source": [
    "    z_o = np.dot(a_h, w12)\n",
    "    print(\"Z_o=\",z_o)\n",
    "    a_o = sigmoid(z_o)\n",
    "    print(\"a_o=\",a_o)"
   ]
  },
  {
   "cell_type": "code",
   "execution_count": 7,
   "metadata": {},
   "outputs": [
    {
     "name": "stdout",
     "output_type": "stream",
     "text": [
      "a_o_error= [[ 0.20227273]\n",
      " [ 0.07321906]\n",
      " [ 0.0705632 ]\n",
      " [ 0.1819656 ]]\n"
     ]
    }
   ],
   "source": [
    "a_o_error = ((1 / 2) * (np.power((a_o - y), 2)))\n",
    "print(\"a_o_error=\",a_o_error)"
   ]
  },
  {
   "cell_type": "code",
   "execution_count": 12,
   "metadata": {},
   "outputs": [
    {
     "name": "stdout",
     "output_type": "stream",
     "text": [
      "delta_a_o_error= [[ 0.63603888]\n",
      " [-0.38267233]\n",
      " [-0.37566794]\n",
      " [ 0.60326711]]\n",
      "delta_z_o= [[ 0.23149342]\n",
      " [ 0.23623422]\n",
      " [ 0.23454154]\n",
      " [ 0.2393359 ]]\n",
      "delta_w12= [[ 0.76149504  0.68782407]\n",
      " [ 0.66117801  0.55979283]\n",
      " [ 0.68301706  0.65921474]\n",
      " [ 0.56840009  0.52751017]]\n",
      "[[ 0.14723882]\n",
      " [-0.0904003 ]\n",
      " [-0.08810974]\n",
      " [ 0.14438348]]\n",
      "delta_output_layer= [[ 0.07423807]\n",
      " [ 0.06874948]]\n",
      "dEw= [[ 0.07423807]\n",
      " [ 0.06874948]]\n"
     ]
    }
   ],
   "source": [
    "# Backpropagation\n",
    "    ## Output layer\n",
    "delta_a_o_error = a_o - y\n",
    "print(\"delta_a_o_error=\",delta_a_o_error)\n",
    "delta_z_o = sigmoid(a_o,derive=True)\n",
    "print(\"delta_z_o=\",delta_z_o)\n",
    "delta_w12 = a_h\n",
    "print(\"delta_w12=\",delta_w12)\n",
    "st=(delta_z_o*delta_a_o_error)\n",
    "print(st)\n",
    "delta_output_layer = np.dot(delta_w12.T,(delta_a_o_error * delta_z_o))\n",
    "dEw=np.dot(delta_w12.T,st)\n",
    "print(\"delta_output_layer=\",delta_output_layer)\n",
    "print(\"dEw=\",dEw)\n",
    "    "
   ]
  },
  {
   "cell_type": "code",
   "execution_count": 13,
   "metadata": {},
   "outputs": [
    {
     "name": "stdout",
     "output_type": "stream",
     "text": [
      "[[ 0.35453044]\n",
      " [-0.03375711]]\n"
     ]
    }
   ],
   "source": [
    "w12 = w12 - eta * delta_output_layer\n",
    "print(w12)"
   ]
  },
  {
   "cell_type": "code",
   "execution_count": 16,
   "metadata": {},
   "outputs": [
    {
     "name": "stdout",
     "output_type": "stream",
     "text": [
      "delta_a_h [[ 0.05220064 -0.00497036]\n",
      " [-0.03204966  0.00305165]\n",
      " [-0.03123758  0.00297433]\n",
      " [ 0.05118834 -0.00487397]]\n",
      "dEdah= [[ 0.05220064 -0.00497036]\n",
      " [-0.03204966  0.00305165]\n",
      " [-0.03123758  0.00297433]\n",
      " [ 0.05118834 -0.00487397]]\n"
     ]
    }
   ],
   "source": [
    "delta_a_h = np.dot(delta_a_o_error * delta_z_o, w12.T)\n",
    "print(\"delta_a_h\",delta_a_h)\n",
    "dEdah=np.dot(st,w12.T)\n",
    "print(\"dEdah=\",dEdah)"
   ]
  },
  {
   "cell_type": "code",
   "execution_count": 17,
   "metadata": {},
   "outputs": [
    {
     "name": "stdout",
     "output_type": "stream",
     "text": [
      "delta_z_h [[ 0.18162034  0.21472212]\n",
      " [ 0.22402165  0.24642482]\n",
      " [ 0.21650476  0.22465067]\n",
      " [ 0.24532143  0.24924319]]\n",
      "dadzh= [[ 0.18162034  0.21472212]\n",
      " [ 0.22402165  0.24642482]\n",
      " [ 0.21650476  0.22465067]\n",
      " [ 0.24532143  0.24924319]]\n"
     ]
    }
   ],
   "source": [
    "delta_z_h = sigmoid(a_h,derive=True)\n",
    "print(\"delta_z_h\",delta_z_h)\n",
    "dahdzh=sigmoid(a_h,derive=True)\n",
    "print(\"dahdzh=\",dahdzh)"
   ]
  },
  {
   "cell_type": "code",
   "execution_count": 19,
   "metadata": {},
   "outputs": [
    {
     "name": "stdout",
     "output_type": "stream",
     "text": [
      "fs= [[ 0.0094807  -0.00106725]\n",
      " [-0.00717982  0.000752  ]\n",
      " [-0.00676309  0.00066819]\n",
      " [ 0.0125576  -0.0012148 ]]\n",
      "delta_hidden_layer [[ 0.00230088 -0.00031524]\n",
      " [ 0.00271761 -0.00039906]\n",
      " [ 0.00809539 -0.00086186]]\n",
      "dEdw1 [[ 0.00230088 -0.00031524]\n",
      " [ 0.00271761 -0.00039906]\n",
      " [ 0.00809539 -0.00086186]]\n"
     ]
    }
   ],
   "source": [
    "delta_w01 = X\n",
    "delta_hidden_layer = np.dot(delta_w01.T, delta_a_h * delta_z_h)\n",
    "fs=delta_a_h * delta_z_h\n",
    "print(\"fs=\",fs)\n",
    "dEdw1=np.dot(delta_w01.T,fs)\n",
    "print(\"delta_hidden_layer\",delta_hidden_layer)\n",
    "print(\"dEdw1\",dEdw1)"
   ]
  },
  {
   "cell_type": "code",
   "execution_count": 20,
   "metadata": {},
   "outputs": [
    {
     "name": "stdout",
     "output_type": "stream",
     "text": [
      "[[ 0.38631905  0.13111511]\n",
      " [ 0.4841925   0.55084206]\n",
      " [ 0.25104035  0.11273751]]\n"
     ]
    }
   ],
   "source": [
    "w01 = w01 - eta * delta_hidden_layer\n",
    "print(w01)"
   ]
  },
  {
   "cell_type": "code",
   "execution_count": 29,
   "metadata": {},
   "outputs": [
    {
     "name": "stdout",
     "output_type": "stream",
     "text": [
      "[[-2.61700493  7.41806243  1.21810333  1.76026892  6.28782391]\n",
      " [ 6.80323767 -4.31214165  3.15237529  1.85702512  6.26520984]\n",
      " [-0.29468228  1.17051979 -3.000712    1.68243252 -1.54867468]]\n",
      "[[ -7.9100769 ]\n",
      " [ -9.52492982]\n",
      " [ -3.93863701]\n",
      " [  3.33900035]\n",
      " [ 12.23878377]]\n"
     ]
    }
   ],
   "source": [
    "for epoch in range(epochs):\n",
    "    # Feed forward\n",
    "    z_h = np.dot(X, w01)\n",
    "    a_h = sigmoid(z_h)\n",
    "\n",
    "    z_o = np.dot(a_h, w12)\n",
    "    a_o = sigmoid(z_o)\n",
    "\n",
    "    # Calculate the error\n",
    "    a_o_error = ((1 / 2) * (np.power((a_o - y), 2)))\n",
    "\n",
    "    # Backpropagation\n",
    "    ## Output layer\n",
    "    delta_a_o_error = a_o - y\n",
    "    delta_z_o = sigmoid(a_o,derive=True)\n",
    "    delta_w12 = a_h\n",
    "    delta_output_layer = np.dot(delta_w12.T,(delta_a_o_error * delta_z_o))\n",
    "\n",
    "    ## Hidden layer\n",
    "    delta_a_h = np.dot(delta_a_o_error * delta_z_o, w12.T)\n",
    "    delta_z_h = sigmoid(a_h,derive=True)\n",
    "    delta_w01 = X\n",
    "    delta_hidden_layer = np.dot(delta_w01.T, delta_a_h * delta_z_h)\n",
    "\n",
    "    w01 = w01 - eta * delta_hidden_layer\n",
    "    w12 = w12 - eta * delta_output_layer\n",
    "print(w01)\n",
    "print(w12)"
   ]
  },
  {
   "cell_type": "code",
   "execution_count": 30,
   "metadata": {},
   "outputs": [
    {
     "name": "stdout",
     "output_type": "stream",
     "text": [
      "[[ 0.00878656]\n",
      " [ 0.9923848 ]\n",
      " [ 0.99306249]\n",
      " [ 0.00280869]]\n"
     ]
    }
   ],
   "source": [
    "test_a_h=sigmoid(np.dot(X,w01));\n",
    "prediction=sigmoid(np.dot(test_a_h,w12))\n",
    "print(prediction)\n"
   ]
  },
  {
   "cell_type": "code",
   "execution_count": null,
   "metadata": {
    "collapsed": true
   },
   "outputs": [],
   "source": []
  }
 ],
 "metadata": {
  "kernelspec": {
   "display_name": "Python 3",
   "language": "python",
   "name": "python3"
  },
  "language_info": {
   "codemirror_mode": {
    "name": "ipython",
    "version": 3
   },
   "file_extension": ".py",
   "mimetype": "text/x-python",
   "name": "python",
   "nbconvert_exporter": "python",
   "pygments_lexer": "ipython3",
   "version": "3.6.1"
  }
 },
 "nbformat": 4,
 "nbformat_minor": 2
}
