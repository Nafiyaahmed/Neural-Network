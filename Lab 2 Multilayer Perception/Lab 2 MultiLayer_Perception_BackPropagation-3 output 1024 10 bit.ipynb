{
 "cells": [
  {
   "cell_type": "code",
   "execution_count": 137,
   "metadata": {
    "colab": {
     "autoexec": {
      "startup": false,
      "wait_interval": 0
     }
    },
    "colab_type": "code",
    "collapsed": true,
    "id": "Zyo6kt_akbPa"
   },
   "outputs": [],
   "source": [
    "import numpy as np"
   ]
  },
  {
   "cell_type": "code",
   "execution_count": 138,
   "metadata": {},
   "outputs": [
    {
     "name": "stdout",
     "output_type": "stream",
     "text": [
      "[[0 0 0 ..., 0 0 0]\n",
      " [0 0 0 ..., 0 0 1]\n",
      " [0 0 0 ..., 0 1 0]\n",
      " ..., \n",
      " [1 1 1 ..., 1 0 1]\n",
      " [1 1 1 ..., 1 1 0]\n",
      " [1 1 1 ..., 1 1 1]]\n"
     ]
    }
   ],
   "source": [
    "data=[]\n",
    "res=0\n",
    "for i in range(0,1024):\n",
    " \n",
    "  res=i\n",
    "     \n",
    "  #print(\"\")\n",
    "  re=np.binary_repr(res, width=10)\n",
    "  temp=[]\n",
    "  for k in re:\n",
    "      temp.append(int(k))\n",
    "      \n",
    "  data.append(temp)\n",
    "\n",
    "data=np.reshape(data,(1024,10))\n",
    "print(data)"
   ]
  },
  {
   "cell_type": "code",
   "execution_count": 139,
   "metadata": {
    "colab": {
     "autoexec": {
      "startup": false,
      "wait_interval": 0
     },
     "base_uri": "https://localhost:8080/",
     "height": 206
    },
    "colab_type": "code",
    "executionInfo": {
     "elapsed": 924,
     "status": "ok",
     "timestamp": 1527847833746,
     "user": {
      "displayName": "Ashadullah Shawon",
      "photoUrl": "//lh3.googleusercontent.com/-sv3-XbKsdZ8/AAAAAAAAAAI/AAAAAAAAAIU/bL9XT7NS8To/s50-c-k-no/photo.jpg",
      "userId": "109724312745076703020"
     },
     "user_tz": 420
    },
    "id": "fDjYPubCkkic",
    "outputId": "07133068-dbb0-434c-a564-390a269020e8"
   },
   "outputs": [
    {
     "name": "stdout",
     "output_type": "stream",
     "text": [
      "[[0 0 0 ..., 0 0 0]\n",
      " [0 0 0 ..., 0 0 1]\n",
      " [0 0 0 ..., 0 1 0]\n",
      " ..., \n",
      " [1 1 1 ..., 1 0 1]\n",
      " [1 1 1 ..., 1 1 0]\n",
      " [1 1 1 ..., 1 1 1]]\n"
     ]
    }
   ],
   "source": [
    "\n",
    "#data=np.random.randint(2,size=(50,10))\n",
    "\n",
    "#print(data)\n",
    "#extra=np.ones((1024,1),dtype=int)\n",
    "#print(extra)\n",
    "#X= np.concatenate((data, extra), axis=1)\n",
    "X=data\n",
    "print(X)"
   ]
  },
  {
   "cell_type": "code",
   "execution_count": 140,
   "metadata": {},
   "outputs": [
    {
     "name": "stdout",
     "output_type": "stream",
     "text": [
      "[[0 0 0]\n",
      " [0 0 1]\n",
      " [0 1 0]\n",
      " ..., \n",
      " [1 0 1]\n",
      " [1 1 0]\n",
      " [1 1 1]]\n"
     ]
    }
   ],
   "source": [
    "ans=[]\n",
    "for i in range(0,1024):\n",
    "    temp=[]\n",
    "    i=i%8\n",
    "    re=np.binary_repr(i,width=3)\n",
    "    for k in re:\n",
    "        temp.append(int(k))\n",
    "    \n",
    "    ans.append(temp)\n",
    "   \n",
    "#ans=np.array(ans)\n",
    "y=np.reshape(ans,(1024,3))\n",
    "print(y)"
   ]
  },
  {
   "cell_type": "code",
   "execution_count": 159,
   "metadata": {
    "colab": {
     "autoexec": {
      "startup": false,
      "wait_interval": 0
     },
     "base_uri": "https://localhost:8080/",
     "height": 319
    },
    "colab_type": "code",
    "executionInfo": {
     "elapsed": 1001,
     "status": "ok",
     "timestamp": 1527850788569,
     "user": {
      "displayName": "Ashadullah Shawon",
      "photoUrl": "//lh3.googleusercontent.com/-sv3-XbKsdZ8/AAAAAAAAAAI/AAAAAAAAAIU/bL9XT7NS8To/s50-c-k-no/photo.jpg",
      "userId": "109724312745076703020"
     },
     "user_tz": 420
    },
    "id": "v2N53vBCmKcq",
    "outputId": "3e89d6b4-ef97-4a83-9e63-69ab2d6b4079"
   },
   "outputs": [
    {
     "name": "stdout",
     "output_type": "stream",
     "text": [
      "[[ 0.35952209  0.83185773]\n",
      " [ 0.58842727 -0.48981136]\n",
      " [ 0.87579884  0.62075646]\n",
      " [-0.32517376 -0.8940269 ]\n",
      " [ 0.96608894 -0.51651674]\n",
      " [-0.90286206 -0.58874045]\n",
      " [ 0.54875069 -0.20370135]\n",
      " [ 0.37303503 -0.1834349 ]\n",
      " [-0.00176486  0.68894695]\n",
      " [ 0.28652741 -0.94087365]]\n",
      "[[ 0.97368008 -0.65062761  0.71495783]\n",
      " [-0.96514486  0.76809884 -0.20339941]]\n"
     ]
    }
   ],
   "source": [
    "w1=2*np.random.random((len(X[0]),2))-1\n",
    "w2=2*np.random.random((2,3))-1\n",
    "print(w1)\n",
    "print(w2)"
   ]
  },
  {
   "cell_type": "code",
   "execution_count": 160,
   "metadata": {
    "colab": {
     "autoexec": {
      "startup": false,
      "wait_interval": 0
     }
    },
    "colab_type": "code",
    "collapsed": true,
    "id": "Pss6LxOWnETV"
   },
   "outputs": [],
   "source": [
    "def sigmoid(x, deriv=False):\n",
    "  if(deriv):\n",
    "    return x*(1-x)\n",
    "  else:\n",
    "    return (1/(1+np.exp(-x)))"
   ]
  },
  {
   "cell_type": "code",
   "execution_count": 161,
   "metadata": {
    "colab": {
     "autoexec": {
      "startup": false,
      "wait_interval": 0
     },
     "base_uri": "https://localhost:8080/",
     "height": 319
    },
    "colab_type": "code",
    "executionInfo": {
     "elapsed": 2953,
     "status": "ok",
     "timestamp": 1527850809718,
     "user": {
      "displayName": "Ashadullah Shawon",
      "photoUrl": "//lh3.googleusercontent.com/-sv3-XbKsdZ8/AAAAAAAAAAI/AAAAAAAAAIU/bL9XT7NS8To/s50-c-k-no/photo.jpg",
      "userId": "109724312745076703020"
     },
     "user_tz": 420
    },
    "id": "lYseSSu3tGqF",
    "outputId": "c011e88e-2795-48e9-f9b0-6b2b4ec66285"
   },
   "outputs": [
    {
     "name": "stdout",
     "output_type": "stream",
     "text": [
      "[[  4.43148972   4.51053474]\n",
      " [  4.43148972   4.51053474]\n",
      " [  4.43148972   4.51053474]\n",
      " [  4.43148972   4.51053474]\n",
      " [  4.43148972   4.51053474]\n",
      " [  4.43148972   4.51053474]\n",
      " [  4.43148972   4.51053474]\n",
      " [-48.94428166   0.81280369]\n",
      " [  4.72856028   5.08607353]\n",
      " [  5.40149503 -48.72693181]]\n",
      "[[-18.67086221  -2.30794685   8.90697189]\n",
      " [  9.42443324  -0.60857091 -17.1480007 ]]\n"
     ]
    }
   ],
   "source": [
    "#Training \n",
    "for epoch in range(0,100000):\n",
    "  \n",
    "  eta=0.2\n",
    "  #Weighted Sum\n",
    "\n",
    "  z_h=np.dot(X,w1)\n",
    "  a_h=sigmoid(z_h)\n",
    "  \n",
    "  # second weighted sum\n",
    "  z_o=np.dot(a_h,w2)\n",
    "  a_o=sigmoid(z_o)\n",
    "  #Error Calculate\n",
    "  Ea=(0.5*(np.power((a_o-y),2)))\n",
    "  #BackPropagation dE/dw2\n",
    "  #dE/da0\n",
    "  dEda0=(a_o-y)\n",
    "  #da0/dz0\n",
    "  da0dz0=sigmoid(a_o,deriv=True)\n",
    "  #dz0/dw\n",
    "  dz0dw=a_h\n",
    "  #dE/dw2\n",
    "  st=da0dz0*dEda0\n",
    "  dEdw2=np.dot(dz0dw.T,st)\n",
    "  #Weight update\n",
    "  w2=w2-(eta*dEdw2)\n",
    "  #hidden Layer dEdw1\n",
    "  #dE/dah\n",
    "  dEdah=np.dot(st,w2.T)\n",
    "  #dzh/dw\n",
    "  dzhdw=X\n",
    "  #dah/dzh\n",
    "  dahdzh=sigmoid(a_h,deriv=True)\n",
    "  fs=dEdah*dahdzh\n",
    "  dEdw1=np.dot(dzhdw.T,fs)\n",
    "  #Weight Update\n",
    "  w1=w1-(eta*dEdw1)\n",
    " \n",
    "print(w1)\n",
    "print(w2)\n",
    "  "
   ]
  },
  {
   "cell_type": "code",
   "execution_count": 162,
   "metadata": {
    "colab": {
     "autoexec": {
      "startup": false,
      "wait_interval": 0
     },
     "base_uri": "https://localhost:8080/",
     "height": 206
    },
    "colab_type": "code",
    "executionInfo": {
     "elapsed": 919,
     "status": "ok",
     "timestamp": 1527851136352,
     "user": {
      "displayName": "Ashadullah Shawon",
      "photoUrl": "//lh3.googleusercontent.com/-sv3-XbKsdZ8/AAAAAAAAAAI/AAAAAAAAAIU/bL9XT7NS8To/s50-c-k-no/photo.jpg",
      "userId": "109724312745076703020"
     },
     "user_tz": 420
    },
    "id": "-jpT_G-auIY8",
    "outputId": "47fae7e5-db1b-44a3-ac74-9e636dc923b7"
   },
   "outputs": [
    {
     "name": "stdout",
     "output_type": "stream",
     "text": [
      "[[ 0.00972566  0.18873377  0.01597676]\n",
      " [ 0.00000001  0.09132316  0.99985905]\n",
      " [ 0.0001072   0.05252273  0.00027084]\n",
      " ..., \n",
      " [ 0.49998318  0.49999789  0.50000777]\n",
      " [ 0.99991928  0.35238428  0.00000004]\n",
      " [ 0.49810689  0.49976025  0.50086215]]\n"
     ]
    }
   ],
   "source": [
    "np.set_printoptions(suppress=True)\n",
    "test_ah=sigmoid(np.dot(X,w1))\n",
    "prediction=sigmoid(np.dot(test_ah,w2))\n",
    "print(prediction)"
   ]
  },
  {
   "cell_type": "code",
   "execution_count": 173,
   "metadata": {
    "colab": {
     "autoexec": {
      "startup": false,
      "wait_interval": 0
     }
    },
    "colab_type": "code",
    "id": "4ncGjhI5un-y"
   },
   "outputs": [
    {
     "name": "stdout",
     "output_type": "stream",
     "text": [
      "[[0 0 0]\n",
      " [0 0 1]\n",
      " [0 0 0]\n",
      " ..., \n",
      " [1 1 1]\n",
      " [1 0 0]\n",
      " [1 1 1]]\n"
     ]
    }
   ],
   "source": [
    "result=[]\n",
    "for i in range(0,1024):\n",
    "    tp=[]\n",
    "    for j in range(0,3):\n",
    "        if(prediction[i][j]>0.40):\n",
    "            tp.append(1)\n",
    "        else:\n",
    "            tp.append(0)\n",
    "    result.append(tp)\n",
    "target=np.reshape(result,(1024,3))\n",
    "print(target)"
   ]
  },
  {
   "cell_type": "code",
   "execution_count": 174,
   "metadata": {},
   "outputs": [
    {
     "name": "stdout",
     "output_type": "stream",
     "text": [
      "83.33333333333334 %\n"
     ]
    }
   ],
   "source": [
    "#Training Accuracy\n",
    "cnt=0\n",
    "\n",
    "for i in range(0,1024):\n",
    "    for j in range(0,3):\n",
    "        if(target[i][j]==y[i][j]):\n",
    "            cnt=cnt+1\n",
    "\n",
    "accuracy=(cnt/3072.00)*100.00\n",
    "print(accuracy,\"%\")\n",
    "    \n",
    "        "
   ]
  },
  {
   "cell_type": "code",
   "execution_count": 216,
   "metadata": {},
   "outputs": [
    {
     "name": "stdout",
     "output_type": "stream",
     "text": [
      "[[0 0 0 ..., 0 0 0]\n",
      " [0 0 0 ..., 0 0 1]\n",
      " [0 0 0 ..., 0 1 0]\n",
      " ..., \n",
      " [1 0 0 ..., 0 1 1]\n",
      " [1 0 0 ..., 1 0 0]\n",
      " [1 0 0 ..., 1 0 1]]\n"
     ]
    },
    {
     "data": {
      "text/plain": [
       "(614, 10)"
      ]
     },
     "execution_count": 216,
     "metadata": {},
     "output_type": "execute_result"
    }
   ],
   "source": [
    "#Testing Accuracy\n",
    "#Case 2\n",
    "X_train=[]\n",
    "for i in range(0,614):\n",
    "    X_train.append(X[i])\n",
    "X_train=np.array(X_train)\n",
    "print(X_train)\n",
    "X_train.shape"
   ]
  },
  {
   "cell_type": "code",
   "execution_count": 217,
   "metadata": {},
   "outputs": [
    {
     "name": "stdout",
     "output_type": "stream",
     "text": [
      "[[0 0 0]\n",
      " [0 0 1]\n",
      " [0 1 0]\n",
      " ..., \n",
      " [0 1 1]\n",
      " [1 0 0]\n",
      " [1 0 1]]\n"
     ]
    },
    {
     "data": {
      "text/plain": [
       "(614, 3)"
      ]
     },
     "execution_count": 217,
     "metadata": {},
     "output_type": "execute_result"
    }
   ],
   "source": [
    "y_train=[]\n",
    "for i in range(0,614):\n",
    "    y_train.append(y[i])\n",
    "y_train=np.array(y_train)\n",
    "print(y_train)\n",
    "y_train.shape"
   ]
  },
  {
   "cell_type": "code",
   "execution_count": 218,
   "metadata": {},
   "outputs": [
    {
     "name": "stdout",
     "output_type": "stream",
     "text": [
      "[[-0.62733608  0.67013078]\n",
      " [ 0.39338393  0.39376368]\n",
      " [-0.02430889 -0.52565891]\n",
      " [-0.10692442 -0.67054252]\n",
      " [-0.14186614 -0.22941268]\n",
      " [ 0.3975741  -0.08429866]\n",
      " [-0.22348553  0.30979906]\n",
      " [ 0.30291585  0.5746871 ]\n",
      " [ 0.49845281  0.19927141]\n",
      " [ 0.51213463 -0.86889614]]\n",
      "[[-0.92890949 -0.31766341  0.71822142]\n",
      " [-0.6000111   0.16430128 -0.4757969 ]]\n"
     ]
    }
   ],
   "source": [
    "w3=2*np.random.random((len(X_train[0]),2))-1\n",
    "w4=2*np.random.random((2,3))-1\n",
    "print(w3)\n",
    "print(w4)"
   ]
  },
  {
   "cell_type": "code",
   "execution_count": 219,
   "metadata": {},
   "outputs": [
    {
     "name": "stdout",
     "output_type": "stream",
     "text": [
      "[[1 0 0 ..., 1 1 0]\n",
      " [1 0 0 ..., 1 1 1]\n",
      " [1 0 0 ..., 0 0 0]\n",
      " ..., \n",
      " [1 1 1 ..., 1 0 1]\n",
      " [1 1 1 ..., 1 1 0]\n",
      " [1 1 1 ..., 1 1 1]]\n"
     ]
    },
    {
     "data": {
      "text/plain": [
       "(410, 10)"
      ]
     },
     "execution_count": 219,
     "metadata": {},
     "output_type": "execute_result"
    }
   ],
   "source": [
    "X_test=[]\n",
    "for i in range(614,1024):\n",
    "    X_test.append(X[i])\n",
    "X_test=np.array(X_test)\n",
    "print(X_test)\n",
    "X_test.shape"
   ]
  },
  {
   "cell_type": "code",
   "execution_count": 220,
   "metadata": {},
   "outputs": [
    {
     "name": "stdout",
     "output_type": "stream",
     "text": [
      "[[1 1 0]\n",
      " [1 1 1]\n",
      " [0 0 0]\n",
      " ..., \n",
      " [1 0 1]\n",
      " [1 1 0]\n",
      " [1 1 1]]\n"
     ]
    },
    {
     "data": {
      "text/plain": [
       "(410, 3)"
      ]
     },
     "execution_count": 220,
     "metadata": {},
     "output_type": "execute_result"
    }
   ],
   "source": [
    "y_test=[]\n",
    "for i in range(614,1024):\n",
    "    y_test.append(y[i])\n",
    "y_test=np.array(y_test)\n",
    "print(y_test)\n",
    "y_test.shape"
   ]
  },
  {
   "cell_type": "code",
   "execution_count": 221,
   "metadata": {},
   "outputs": [
    {
     "name": "stdout",
     "output_type": "stream",
     "text": [
      "[[  7.57678671   7.26286314]\n",
      " [  7.57314325   4.91007832]\n",
      " [  7.57166314   4.9100777 ]\n",
      " [  7.57653396   4.91929238]\n",
      " [  7.57664511   4.91929242]\n",
      " [  7.57594079   4.92781975]\n",
      " [  7.57467325   4.92781921]\n",
      " [  7.64218351   4.91776362]\n",
      " [  7.56535972   5.06370899]\n",
      " [  7.29498846 -39.98351389]]\n",
      "[[ -2.94307604  -4.4242976   14.97270063]\n",
      " [  0.64056074  -2.19610254 -23.05698099]]\n"
     ]
    }
   ],
   "source": [
    "for epoch in range(0,120000):\n",
    "  \n",
    "  eta=0.2\n",
    "  #Weighted Sum\n",
    "\n",
    "  z_h=np.dot(X_train,w3)\n",
    "  a_h=sigmoid(z_h)\n",
    "  \n",
    "  # second weighted sum\n",
    "  z_o=np.dot(a_h,w4)\n",
    "  a_o=sigmoid(z_o)\n",
    "  #Error Calculate\n",
    "  Ea=(0.5*(np.power((a_o-y_train),2)))\n",
    "  #BackPropagation dE/dw2\n",
    "  #dE/da0\n",
    "  dEda0=(a_o-y_train)\n",
    "  #da0/dz0\n",
    "  da0dz0=sigmoid(a_o,deriv=True)\n",
    "  #dz0/dw\n",
    "  dz0dw=a_h\n",
    "  #dE/dw2\n",
    "  st=da0dz0*dEda0\n",
    "  dEdw2=np.dot(dz0dw.T,st)\n",
    "  #Weight update\n",
    "  w4=w4-(eta*dEdw2)\n",
    "  #hidden Layer dEdw1\n",
    "  #dE/dah\n",
    "  dEdah=np.dot(st,w4.T)\n",
    "  #dzh/dw\n",
    "  dzhdw=X_train\n",
    "  #dah/dzh\n",
    "  dahdzh=sigmoid(a_h,deriv=True)\n",
    "  fs=dEdah*dahdzh\n",
    "  dEdw1=np.dot(dzhdw.T,fs)\n",
    "  #Weight Update\n",
    "  w3=w3-(eta*dEdw1)\n",
    " \n",
    "print(w3)\n",
    "print(w4)\n",
    "  "
   ]
  },
  {
   "cell_type": "code",
   "execution_count": 222,
   "metadata": {},
   "outputs": [
    {
     "name": "stdout",
     "output_type": "stream",
     "text": [
      "[[ 0.09091486  0.00133112  0.00030825]\n",
      " [ 0.05006486  0.01184068  0.99999969]\n",
      " [ 0.09091486  0.00133112  0.00030825]\n",
      " ..., \n",
      " [ 0.08313442  0.00186159  0.01038196]\n",
      " [ 0.09091486  0.00133112  0.00030825]\n",
      " [ 0.0908545   0.00133446  0.00031646]]\n"
     ]
    },
    {
     "data": {
      "text/plain": [
       "(410, 3)"
      ]
     },
     "execution_count": 222,
     "metadata": {},
     "output_type": "execute_result"
    }
   ],
   "source": [
    "np.set_printoptions(suppress=True)\n",
    "test_ah=sigmoid(np.dot(X_test,w3))\n",
    "prediction=sigmoid(np.dot(test_ah,w4))\n",
    "print(prediction)\n",
    "prediction.shape"
   ]
  },
  {
   "cell_type": "code",
   "execution_count": 223,
   "metadata": {},
   "outputs": [
    {
     "name": "stdout",
     "output_type": "stream",
     "text": [
      "[[0 0 0]\n",
      " [0 0 1]\n",
      " [0 0 0]\n",
      " ..., \n",
      " [0 0 0]\n",
      " [0 0 0]\n",
      " [0 0 0]]\n"
     ]
    }
   ],
   "source": [
    "result=[]\n",
    "for i in range(0,410):\n",
    "    tp=[]\n",
    "    for j in range(0,3):\n",
    "        if(prediction[i][j]>0.40):\n",
    "            tp.append(1)\n",
    "        else:\n",
    "            tp.append(0)\n",
    "    #print(result)\n",
    "    result.append(tp)\n",
    "result=np.array(result)\n",
    "target=np.reshape(result,(410,3))\n",
    "print(target)"
   ]
  },
  {
   "cell_type": "code",
   "execution_count": 224,
   "metadata": {},
   "outputs": [
    {
     "name": "stdout",
     "output_type": "stream",
     "text": [
      "65.77235772357723 %\n"
     ]
    }
   ],
   "source": [
    "#Testing Accuracy\n",
    "cnt=0\n",
    "\n",
    "for i in range(0,410):\n",
    "    for j in range(0,3):\n",
    "        if(target[i][j]==y_test[i][j]):\n",
    "            cnt=cnt+1\n",
    "\n",
    "accuracy=(cnt/1230.00)*100.00\n",
    "print(accuracy,\"%\")"
   ]
  },
  {
   "cell_type": "code",
   "execution_count": 206,
   "metadata": {},
   "outputs": [
    {
     "name": "stdout",
     "output_type": "stream",
     "text": [
      "[[0 0 0 ..., 0 0 0]\n",
      " [0 0 0 ..., 0 0 1]\n",
      " [0 0 0 ..., 0 1 0]\n",
      " ..., \n",
      " [1 1 1 ..., 1 1 1]\n",
      " [1 1 1 ..., 0 0 0]\n",
      " [1 1 1 ..., 0 0 1]]\n"
     ]
    },
    {
     "data": {
      "text/plain": [
       "(922, 10)"
      ]
     },
     "execution_count": 206,
     "metadata": {},
     "output_type": "execute_result"
    }
   ],
   "source": [
    "#Case 3\n",
    "#Testing Accuracy\n",
    "X_train2=[]\n",
    "for i in range(0,922):\n",
    "    X_train2.append(X[i])\n",
    "X_train2=np.array(X_train2)\n",
    "print(X_train2)\n",
    "X_train2.shape"
   ]
  },
  {
   "cell_type": "code",
   "execution_count": 207,
   "metadata": {},
   "outputs": [
    {
     "name": "stdout",
     "output_type": "stream",
     "text": [
      "[[1 1 1 ..., 0 1 0]\n",
      " [1 1 1 ..., 0 1 1]\n",
      " [1 1 1 ..., 1 0 0]\n",
      " ..., \n",
      " [1 1 1 ..., 1 0 1]\n",
      " [1 1 1 ..., 1 1 0]\n",
      " [1 1 1 ..., 1 1 1]]\n"
     ]
    },
    {
     "data": {
      "text/plain": [
       "(102, 10)"
      ]
     },
     "execution_count": 207,
     "metadata": {},
     "output_type": "execute_result"
    }
   ],
   "source": [
    "X_test2=[]\n",
    "for i in range(922,1024):\n",
    "    X_test2.append(X[i])\n",
    "X_test2=np.array(X_test2)\n",
    "print(X_test2)\n",
    "X_test2.shape"
   ]
  },
  {
   "cell_type": "code",
   "execution_count": 208,
   "metadata": {},
   "outputs": [
    {
     "name": "stdout",
     "output_type": "stream",
     "text": [
      "[[0 0 0]\n",
      " [0 0 1]\n",
      " [0 1 0]\n",
      " ..., \n",
      " [1 1 1]\n",
      " [0 0 0]\n",
      " [0 0 1]]\n"
     ]
    },
    {
     "data": {
      "text/plain": [
       "(922, 3)"
      ]
     },
     "execution_count": 208,
     "metadata": {},
     "output_type": "execute_result"
    }
   ],
   "source": [
    "y_train2=[]\n",
    "for i in range(0,922):\n",
    "    y_train2.append(y[i])\n",
    "y_train2=np.array(y_train2)\n",
    "print(y_train2)\n",
    "y_train2.shape"
   ]
  },
  {
   "cell_type": "code",
   "execution_count": 209,
   "metadata": {},
   "outputs": [
    {
     "name": "stdout",
     "output_type": "stream",
     "text": [
      "[[0 1 0]\n",
      " [0 1 1]\n",
      " [1 0 0]\n",
      " [1 0 1]\n",
      " [1 1 0]\n",
      " [1 1 1]\n",
      " [0 0 0]\n",
      " [0 0 1]\n",
      " [0 1 0]\n",
      " [0 1 1]\n",
      " [1 0 0]\n",
      " [1 0 1]\n",
      " [1 1 0]\n",
      " [1 1 1]\n",
      " [0 0 0]\n",
      " [0 0 1]\n",
      " [0 1 0]\n",
      " [0 1 1]\n",
      " [1 0 0]\n",
      " [1 0 1]\n",
      " [1 1 0]\n",
      " [1 1 1]\n",
      " [0 0 0]\n",
      " [0 0 1]\n",
      " [0 1 0]\n",
      " [0 1 1]\n",
      " [1 0 0]\n",
      " [1 0 1]\n",
      " [1 1 0]\n",
      " [1 1 1]\n",
      " [0 0 0]\n",
      " [0 0 1]\n",
      " [0 1 0]\n",
      " [0 1 1]\n",
      " [1 0 0]\n",
      " [1 0 1]\n",
      " [1 1 0]\n",
      " [1 1 1]\n",
      " [0 0 0]\n",
      " [0 0 1]\n",
      " [0 1 0]\n",
      " [0 1 1]\n",
      " [1 0 0]\n",
      " [1 0 1]\n",
      " [1 1 0]\n",
      " [1 1 1]\n",
      " [0 0 0]\n",
      " [0 0 1]\n",
      " [0 1 0]\n",
      " [0 1 1]\n",
      " [1 0 0]\n",
      " [1 0 1]\n",
      " [1 1 0]\n",
      " [1 1 1]\n",
      " [0 0 0]\n",
      " [0 0 1]\n",
      " [0 1 0]\n",
      " [0 1 1]\n",
      " [1 0 0]\n",
      " [1 0 1]\n",
      " [1 1 0]\n",
      " [1 1 1]\n",
      " [0 0 0]\n",
      " [0 0 1]\n",
      " [0 1 0]\n",
      " [0 1 1]\n",
      " [1 0 0]\n",
      " [1 0 1]\n",
      " [1 1 0]\n",
      " [1 1 1]\n",
      " [0 0 0]\n",
      " [0 0 1]\n",
      " [0 1 0]\n",
      " [0 1 1]\n",
      " [1 0 0]\n",
      " [1 0 1]\n",
      " [1 1 0]\n",
      " [1 1 1]\n",
      " [0 0 0]\n",
      " [0 0 1]\n",
      " [0 1 0]\n",
      " [0 1 1]\n",
      " [1 0 0]\n",
      " [1 0 1]\n",
      " [1 1 0]\n",
      " [1 1 1]\n",
      " [0 0 0]\n",
      " [0 0 1]\n",
      " [0 1 0]\n",
      " [0 1 1]\n",
      " [1 0 0]\n",
      " [1 0 1]\n",
      " [1 1 0]\n",
      " [1 1 1]\n",
      " [0 0 0]\n",
      " [0 0 1]\n",
      " [0 1 0]\n",
      " [0 1 1]\n",
      " [1 0 0]\n",
      " [1 0 1]\n",
      " [1 1 0]\n",
      " [1 1 1]]\n"
     ]
    },
    {
     "data": {
      "text/plain": [
       "(102, 3)"
      ]
     },
     "execution_count": 209,
     "metadata": {},
     "output_type": "execute_result"
    }
   ],
   "source": [
    "y_test2=[]\n",
    "for i in range(922,1024):\n",
    "    y_test2.append(y[i])\n",
    "y_test2=np.array(y_test2)\n",
    "print(y_test2)\n",
    "y_test2.shape"
   ]
  },
  {
   "cell_type": "code",
   "execution_count": 210,
   "metadata": {},
   "outputs": [
    {
     "name": "stdout",
     "output_type": "stream",
     "text": [
      "[[ 0.26667261  0.6758651 ]\n",
      " [ 0.57494299  0.8291755 ]\n",
      " [ 0.46495934  0.47031982]\n",
      " [ 0.63454385  0.54332791]\n",
      " [ 0.47773781  0.19049624]\n",
      " [ 0.53271829  0.33254615]\n",
      " [ 0.40162347  0.15202088]\n",
      " [ 0.54419772  0.32422244]\n",
      " [ 0.09282703  0.59698184]\n",
      " [ 0.4161234   0.14584759]]\n",
      "[[ 0.38069664  0.8724181   0.03751577]\n",
      " [ 0.25163811  0.79546849  0.7908924 ]]\n"
     ]
    }
   ],
   "source": [
    "w5=np.random.random((len(X_train2[0]),2))\n",
    "w6=np.random.random((2,3))\n",
    "print(w5)\n",
    "print(w6)"
   ]
  },
  {
   "cell_type": "code",
   "execution_count": 211,
   "metadata": {},
   "outputs": [
    {
     "name": "stdout",
     "output_type": "stream",
     "text": [
      "[[ 7.55792312  7.07528084]\n",
      " [ 7.01090116  6.79450096]\n",
      " [ 7.19243764  7.42452306]\n",
      " [ 7.27062025  7.61075113]\n",
      " [ 7.49326649  8.10156459]\n",
      " [ 7.59049928  8.03307366]\n",
      " [ 7.7896999   8.28772748]\n",
      " [ 3.07221206  2.82021673]\n",
      " [ 3.0860287   2.59238659]\n",
      " [ 1.75922785  2.44719612]]\n",
      "[[-7.62376916 -7.70471539 -7.92372095]\n",
      " [-7.92605155 -7.2985553  -7.35083632]]\n"
     ]
    }
   ],
   "source": [
    "for epoch in range(0,120000):\n",
    "  \n",
    "  eta=0.2\n",
    "  #Weighted Sum\n",
    "\n",
    "  z_h=np.dot(X_train2,w5)\n",
    "  a_h=sigmoid(z_h)\n",
    "  \n",
    "  # second weighted sum\n",
    "  z_o=np.dot(a_h,w6)\n",
    "  a_o=sigmoid(z_o)\n",
    "  #Error Calculate\n",
    "  Ea=(0.5*(np.power((a_o-y_train2),2)))\n",
    "  #BackPropagation dE/dw2\n",
    "  #dE/da0\n",
    "  dEda0=(a_o-y_train2)\n",
    "  #da0/dz0\n",
    "  da0dz0=sigmoid(a_o,deriv=True)\n",
    "  #dz0/dw\n",
    "  dz0dw=a_h\n",
    "  #dE/dw2\n",
    "  st=da0dz0*dEda0\n",
    "  dEdw2=np.dot(dz0dw.T,st)\n",
    "  #Weight update\n",
    "  w6=w6-(eta*dEdw2)\n",
    "  #hidden Layer dEdw1\n",
    "  #dE/dah\n",
    "  dEdah=np.dot(st,w6.T)\n",
    "  #dzh/dw\n",
    "  dzhdw=X_train2\n",
    "  #dah/dzh\n",
    "  dahdzh=sigmoid(a_h,deriv=True)\n",
    "  fs=dEdah*dahdzh\n",
    "  dEdw1=np.dot(dzhdw.T,fs)\n",
    "  #Weight Update\n",
    "  w5=w5-(eta*dEdw1)\n",
    " \n",
    "print(w5)\n",
    "print(w6)"
   ]
  },
  {
   "cell_type": "code",
   "execution_count": 212,
   "metadata": {},
   "outputs": [
    {
     "name": "stdout",
     "output_type": "stream",
     "text": [
      "[[ 0.00000018  0.0000003   0.00000023]\n",
      " [ 0.00000018  0.0000003   0.00000023]\n",
      " [ 0.00000018  0.0000003   0.00000023]\n",
      " [ 0.00000018  0.0000003   0.00000023]\n",
      " [ 0.00000018  0.0000003   0.00000023]\n",
      " [ 0.00000018  0.0000003   0.00000023]\n",
      " [ 0.00000018  0.0000003   0.00000023]\n",
      " [ 0.00000018  0.0000003   0.00000023]\n",
      " [ 0.00000018  0.0000003   0.00000023]\n",
      " [ 0.00000018  0.0000003   0.00000023]\n",
      " [ 0.00000018  0.0000003   0.00000023]\n",
      " [ 0.00000018  0.0000003   0.00000023]\n",
      " [ 0.00000018  0.0000003   0.00000023]\n",
      " [ 0.00000018  0.0000003   0.00000023]\n",
      " [ 0.00000018  0.0000003   0.00000023]\n",
      " [ 0.00000018  0.0000003   0.00000023]\n",
      " [ 0.00000018  0.0000003   0.00000023]\n",
      " [ 0.00000018  0.0000003   0.00000023]\n",
      " [ 0.00000018  0.0000003   0.00000023]\n",
      " [ 0.00000018  0.0000003   0.00000023]\n",
      " [ 0.00000018  0.0000003   0.00000023]\n",
      " [ 0.00000018  0.0000003   0.00000023]\n",
      " [ 0.00000018  0.0000003   0.00000023]\n",
      " [ 0.00000018  0.0000003   0.00000023]\n",
      " [ 0.00000018  0.0000003   0.00000023]\n",
      " [ 0.00000018  0.0000003   0.00000023]\n",
      " [ 0.00000018  0.0000003   0.00000023]\n",
      " [ 0.00000018  0.0000003   0.00000023]\n",
      " [ 0.00000018  0.0000003   0.00000023]\n",
      " [ 0.00000018  0.0000003   0.00000023]\n",
      " [ 0.00000018  0.0000003   0.00000023]\n",
      " [ 0.00000018  0.0000003   0.00000023]\n",
      " [ 0.00000018  0.0000003   0.00000023]\n",
      " [ 0.00000018  0.0000003   0.00000023]\n",
      " [ 0.00000018  0.0000003   0.00000023]\n",
      " [ 0.00000018  0.0000003   0.00000023]\n",
      " [ 0.00000018  0.0000003   0.00000023]\n",
      " [ 0.00000018  0.0000003   0.00000023]\n",
      " [ 0.00000018  0.0000003   0.00000023]\n",
      " [ 0.00000018  0.0000003   0.00000023]\n",
      " [ 0.00000018  0.0000003   0.00000023]\n",
      " [ 0.00000018  0.0000003   0.00000023]\n",
      " [ 0.00000018  0.0000003   0.00000023]\n",
      " [ 0.00000018  0.0000003   0.00000023]\n",
      " [ 0.00000018  0.0000003   0.00000023]\n",
      " [ 0.00000018  0.0000003   0.00000023]\n",
      " [ 0.00000018  0.0000003   0.00000023]\n",
      " [ 0.00000018  0.0000003   0.00000023]\n",
      " [ 0.00000018  0.0000003   0.00000023]\n",
      " [ 0.00000018  0.0000003   0.00000023]\n",
      " [ 0.00000018  0.0000003   0.00000023]\n",
      " [ 0.00000018  0.0000003   0.00000023]\n",
      " [ 0.00000018  0.0000003   0.00000023]\n",
      " [ 0.00000018  0.0000003   0.00000023]\n",
      " [ 0.00000018  0.0000003   0.00000023]\n",
      " [ 0.00000018  0.0000003   0.00000023]\n",
      " [ 0.00000018  0.0000003   0.00000023]\n",
      " [ 0.00000018  0.0000003   0.00000023]\n",
      " [ 0.00000018  0.0000003   0.00000023]\n",
      " [ 0.00000018  0.0000003   0.00000023]\n",
      " [ 0.00000018  0.0000003   0.00000023]\n",
      " [ 0.00000018  0.0000003   0.00000023]\n",
      " [ 0.00000018  0.0000003   0.00000023]\n",
      " [ 0.00000018  0.0000003   0.00000023]\n",
      " [ 0.00000018  0.0000003   0.00000023]\n",
      " [ 0.00000018  0.0000003   0.00000023]\n",
      " [ 0.00000018  0.0000003   0.00000023]\n",
      " [ 0.00000018  0.0000003   0.00000023]\n",
      " [ 0.00000018  0.0000003   0.00000023]\n",
      " [ 0.00000018  0.0000003   0.00000023]\n",
      " [ 0.00000018  0.0000003   0.00000023]\n",
      " [ 0.00000018  0.0000003   0.00000023]\n",
      " [ 0.00000018  0.0000003   0.00000023]\n",
      " [ 0.00000018  0.0000003   0.00000023]\n",
      " [ 0.00000018  0.0000003   0.00000023]\n",
      " [ 0.00000018  0.0000003   0.00000023]\n",
      " [ 0.00000018  0.0000003   0.00000023]\n",
      " [ 0.00000018  0.0000003   0.00000023]\n",
      " [ 0.00000018  0.0000003   0.00000023]\n",
      " [ 0.00000018  0.0000003   0.00000023]\n",
      " [ 0.00000018  0.0000003   0.00000023]\n",
      " [ 0.00000018  0.0000003   0.00000023]\n",
      " [ 0.00000018  0.0000003   0.00000023]\n",
      " [ 0.00000018  0.0000003   0.00000023]\n",
      " [ 0.00000018  0.0000003   0.00000023]\n",
      " [ 0.00000018  0.0000003   0.00000023]\n",
      " [ 0.00000018  0.0000003   0.00000023]\n",
      " [ 0.00000018  0.0000003   0.00000023]\n",
      " [ 0.00000018  0.0000003   0.00000023]\n",
      " [ 0.00000018  0.0000003   0.00000023]\n",
      " [ 0.00000018  0.0000003   0.00000023]\n",
      " [ 0.00000018  0.0000003   0.00000023]\n",
      " [ 0.00000018  0.0000003   0.00000023]\n",
      " [ 0.00000018  0.0000003   0.00000023]\n",
      " [ 0.00000018  0.0000003   0.00000023]\n",
      " [ 0.00000018  0.0000003   0.00000023]\n",
      " [ 0.00000018  0.0000003   0.00000023]\n",
      " [ 0.00000018  0.0000003   0.00000023]\n",
      " [ 0.00000018  0.0000003   0.00000023]\n",
      " [ 0.00000018  0.0000003   0.00000023]\n",
      " [ 0.00000018  0.0000003   0.00000023]\n",
      " [ 0.00000018  0.0000003   0.00000023]]\n"
     ]
    },
    {
     "data": {
      "text/plain": [
       "(102, 3)"
      ]
     },
     "execution_count": 212,
     "metadata": {},
     "output_type": "execute_result"
    }
   ],
   "source": [
    "np.set_printoptions(suppress=True)\n",
    "test_ah=sigmoid(np.dot(X_test2,w5))\n",
    "prediction=sigmoid(np.dot(test_ah,w6))\n",
    "print(prediction)\n",
    "prediction.shape"
   ]
  },
  {
   "cell_type": "code",
   "execution_count": 214,
   "metadata": {},
   "outputs": [
    {
     "name": "stdout",
     "output_type": "stream",
     "text": [
      "[[0 0 0]\n",
      " [0 0 0]\n",
      " [0 0 0]\n",
      " [0 0 0]\n",
      " [0 0 0]\n",
      " [0 0 0]\n",
      " [0 0 0]\n",
      " [0 0 0]\n",
      " [0 0 0]\n",
      " [0 0 0]\n",
      " [0 0 0]\n",
      " [0 0 0]\n",
      " [0 0 0]\n",
      " [0 0 0]\n",
      " [0 0 0]\n",
      " [0 0 0]\n",
      " [0 0 0]\n",
      " [0 0 0]\n",
      " [0 0 0]\n",
      " [0 0 0]\n",
      " [0 0 0]\n",
      " [0 0 0]\n",
      " [0 0 0]\n",
      " [0 0 0]\n",
      " [0 0 0]\n",
      " [0 0 0]\n",
      " [0 0 0]\n",
      " [0 0 0]\n",
      " [0 0 0]\n",
      " [0 0 0]\n",
      " [0 0 0]\n",
      " [0 0 0]\n",
      " [0 0 0]\n",
      " [0 0 0]\n",
      " [0 0 0]\n",
      " [0 0 0]\n",
      " [0 0 0]\n",
      " [0 0 0]\n",
      " [0 0 0]\n",
      " [0 0 0]\n",
      " [0 0 0]\n",
      " [0 0 0]\n",
      " [0 0 0]\n",
      " [0 0 0]\n",
      " [0 0 0]\n",
      " [0 0 0]\n",
      " [0 0 0]\n",
      " [0 0 0]\n",
      " [0 0 0]\n",
      " [0 0 0]\n",
      " [0 0 0]\n",
      " [0 0 0]\n",
      " [0 0 0]\n",
      " [0 0 0]\n",
      " [0 0 0]\n",
      " [0 0 0]\n",
      " [0 0 0]\n",
      " [0 0 0]\n",
      " [0 0 0]\n",
      " [0 0 0]\n",
      " [0 0 0]\n",
      " [0 0 0]\n",
      " [0 0 0]\n",
      " [0 0 0]\n",
      " [0 0 0]\n",
      " [0 0 0]\n",
      " [0 0 0]\n",
      " [0 0 0]\n",
      " [0 0 0]\n",
      " [0 0 0]\n",
      " [0 0 0]\n",
      " [0 0 0]\n",
      " [0 0 0]\n",
      " [0 0 0]\n",
      " [0 0 0]\n",
      " [0 0 0]\n",
      " [0 0 0]\n",
      " [0 0 0]\n",
      " [0 0 0]\n",
      " [0 0 0]\n",
      " [0 0 0]\n",
      " [0 0 0]\n",
      " [0 0 0]\n",
      " [0 0 0]\n",
      " [0 0 0]\n",
      " [0 0 0]\n",
      " [0 0 0]\n",
      " [0 0 0]\n",
      " [0 0 0]\n",
      " [0 0 0]\n",
      " [0 0 0]\n",
      " [0 0 0]\n",
      " [0 0 0]\n",
      " [0 0 0]\n",
      " [0 0 0]\n",
      " [0 0 0]\n",
      " [0 0 0]\n",
      " [0 0 0]\n",
      " [0 0 0]\n",
      " [0 0 0]\n",
      " [0 0 0]\n",
      " [0 0 0]]\n"
     ]
    }
   ],
   "source": [
    "result=[]\n",
    "for i in range(0,102):\n",
    "    tp=[]\n",
    "    for j in range(0,3):\n",
    "        if(prediction[i][j]>0.40):\n",
    "            tp.append(1)\n",
    "        else:\n",
    "            tp.append(0)\n",
    "    #print(result)\n",
    "    result.append(tp)\n",
    "#target=np.reshape(result,(20,3))\n",
    "result=np.array(result)\n",
    "target=np.reshape(result,(102,3))\n",
    "print(target)"
   ]
  },
  {
   "cell_type": "code",
   "execution_count": 215,
   "metadata": {},
   "outputs": [
    {
     "name": "stdout",
     "output_type": "stream",
     "text": [
      "49.34640522875817 %\n"
     ]
    }
   ],
   "source": [
    "#Testing Accuracy\n",
    "cnt=0\n",
    "\n",
    "for i in range(0,102):\n",
    "    for j in range(0,3):\n",
    "        if(target[i][j]==y_test2[i][j]):\n",
    "            cnt=cnt+1\n",
    "\n",
    "accuracy=(cnt/306.00)*100.00\n",
    "print(accuracy,\"%\")"
   ]
  },
  {
   "cell_type": "code",
   "execution_count": null,
   "metadata": {
    "collapsed": true
   },
   "outputs": [],
   "source": []
  }
 ],
 "metadata": {
  "accelerator": "GPU",
  "colab": {
   "collapsed_sections": [],
   "default_view": {},
   "name": "Copy of MultiLayer Perception BackPropagation.ipynb",
   "provenance": [
    {
     "file_id": "1QKv981dYF4hH4Ym6eHvx1M2RgCP3XiMD",
     "timestamp": 1527846980039
    }
   ],
   "version": "0.3.2",
   "views": {}
  },
  "kernelspec": {
   "display_name": "Python 3",
   "language": "python",
   "name": "python3"
  },
  "language_info": {
   "codemirror_mode": {
    "name": "ipython",
    "version": 3
   },
   "file_extension": ".py",
   "mimetype": "text/x-python",
   "name": "python",
   "nbconvert_exporter": "python",
   "pygments_lexer": "ipython3",
   "version": "3.6.1"
  }
 },
 "nbformat": 4,
 "nbformat_minor": 1
}
