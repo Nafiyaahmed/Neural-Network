{
 "cells": [
  {
   "cell_type": "code",
   "execution_count": 49,
   "metadata": {
    "colab": {
     "autoexec": {
      "startup": false,
      "wait_interval": 0
     }
    },
    "colab_type": "code",
    "collapsed": true,
    "id": "Zyo6kt_akbPa"
   },
   "outputs": [],
   "source": [
    "import numpy as np"
   ]
  },
  {
   "cell_type": "code",
   "execution_count": 50,
   "metadata": {
    "colab": {
     "autoexec": {
      "startup": false,
      "wait_interval": 0
     },
     "base_uri": "https://localhost:8080/",
     "height": 206
    },
    "colab_type": "code",
    "executionInfo": {
     "elapsed": 924,
     "status": "ok",
     "timestamp": 1527847833746,
     "user": {
      "displayName": "Ashadullah Shawon",
      "photoUrl": "//lh3.googleusercontent.com/-sv3-XbKsdZ8/AAAAAAAAAAI/AAAAAAAAAIU/bL9XT7NS8To/s50-c-k-no/photo.jpg",
      "userId": "109724312745076703020"
     },
     "user_tz": 420
    },
    "id": "fDjYPubCkkic",
    "outputId": "07133068-dbb0-434c-a564-390a269020e8"
   },
   "outputs": [
    {
     "name": "stdout",
     "output_type": "stream",
     "text": [
      "[[0 0 0 ..., 0 0 1]\n",
      " [1 1 1 ..., 1 1 1]\n",
      " [1 1 1 ..., 1 0 1]\n",
      " ..., \n",
      " [0 0 0 ..., 0 1 1]\n",
      " [1 0 1 ..., 1 0 1]\n",
      " [1 0 0 ..., 0 0 1]]\n"
     ]
    }
   ],
   "source": [
    "\n",
    "data=np.random.randint(2,size=(100,10))\n",
    "#print(data)\n",
    "extra=np.ones((100,1),dtype=int)\n",
    "#print(extra)\n",
    "X= np.concatenate((data, extra), axis=1)\n",
    "print(X)"
   ]
  },
  {
   "cell_type": "code",
   "execution_count": 51,
   "metadata": {
    "colab": {
     "autoexec": {
      "startup": false,
      "wait_interval": 0
     },
     "base_uri": "https://localhost:8080/",
     "height": 206
    },
    "colab_type": "code",
    "executionInfo": {
     "elapsed": 919,
     "status": "ok",
     "timestamp": 1527850749052,
     "user": {
      "displayName": "Ashadullah Shawon",
      "photoUrl": "//lh3.googleusercontent.com/-sv3-XbKsdZ8/AAAAAAAAAAI/AAAAAAAAAIU/bL9XT7NS8To/s50-c-k-no/photo.jpg",
      "userId": "109724312745076703020"
     },
     "user_tz": 420
    },
    "id": "j-xcvN-j13tx",
    "outputId": "859c3c38-b0a0-40e1-851d-0613fad54c15"
   },
   "outputs": [
    {
     "name": "stdout",
     "output_type": "stream",
     "text": [
      "[[1]\n",
      " [1]\n",
      " [0]\n",
      " [0]\n",
      " [1]\n",
      " [0]\n",
      " [1]\n",
      " [0]\n",
      " [1]\n",
      " [0]\n",
      " [1]\n",
      " [0]\n",
      " [1]\n",
      " [1]\n",
      " [1]\n",
      " [1]\n",
      " [1]\n",
      " [0]\n",
      " [1]\n",
      " [0]\n",
      " [0]\n",
      " [1]\n",
      " [1]\n",
      " [0]\n",
      " [0]\n",
      " [1]\n",
      " [1]\n",
      " [1]\n",
      " [0]\n",
      " [1]\n",
      " [0]\n",
      " [0]\n",
      " [0]\n",
      " [0]\n",
      " [1]\n",
      " [0]\n",
      " [0]\n",
      " [0]\n",
      " [0]\n",
      " [1]\n",
      " [0]\n",
      " [0]\n",
      " [0]\n",
      " [0]\n",
      " [1]\n",
      " [1]\n",
      " [0]\n",
      " [0]\n",
      " [0]\n",
      " [0]\n",
      " [1]\n",
      " [1]\n",
      " [1]\n",
      " [0]\n",
      " [0]\n",
      " [0]\n",
      " [0]\n",
      " [0]\n",
      " [1]\n",
      " [0]\n",
      " [0]\n",
      " [0]\n",
      " [0]\n",
      " [0]\n",
      " [0]\n",
      " [1]\n",
      " [1]\n",
      " [1]\n",
      " [0]\n",
      " [1]\n",
      " [1]\n",
      " [1]\n",
      " [0]\n",
      " [0]\n",
      " [0]\n",
      " [0]\n",
      " [1]\n",
      " [0]\n",
      " [1]\n",
      " [1]\n",
      " [1]\n",
      " [0]\n",
      " [0]\n",
      " [0]\n",
      " [1]\n",
      " [1]\n",
      " [0]\n",
      " [1]\n",
      " [0]\n",
      " [0]\n",
      " [0]\n",
      " [1]\n",
      " [0]\n",
      " [0]\n",
      " [1]\n",
      " [1]\n",
      " [0]\n",
      " [1]\n",
      " [0]\n",
      " [1]]\n"
     ]
    }
   ],
   "source": [
    "ans=[]\n",
    "for i in range(0,100):\n",
    "  res=0\n",
    "  for j in range(0,10):\n",
    "      #print((X[i][j]), end = '')\n",
    "      res=abs(X[i][j]-res)\n",
    "  #print(\"\")\n",
    "  ans.append(res)\n",
    "y=np.reshape(ans,(100,1))\n",
    "print(y)\n",
    "      "
   ]
  },
  {
   "cell_type": "code",
   "execution_count": 52,
   "metadata": {
    "colab": {
     "autoexec": {
      "startup": false,
      "wait_interval": 0
     },
     "base_uri": "https://localhost:8080/",
     "height": 319
    },
    "colab_type": "code",
    "executionInfo": {
     "elapsed": 1001,
     "status": "ok",
     "timestamp": 1527850788569,
     "user": {
      "displayName": "Ashadullah Shawon",
      "photoUrl": "//lh3.googleusercontent.com/-sv3-XbKsdZ8/AAAAAAAAAAI/AAAAAAAAAIU/bL9XT7NS8To/s50-c-k-no/photo.jpg",
      "userId": "109724312745076703020"
     },
     "user_tz": 420
    },
    "id": "v2N53vBCmKcq",
    "outputId": "3e89d6b4-ef97-4a83-9e63-69ab2d6b4079"
   },
   "outputs": [
    {
     "name": "stdout",
     "output_type": "stream",
     "text": [
      "[[ 0.14336409  0.8758594   0.67721276  0.14157472  0.07097049]\n",
      " [ 0.08825601  0.9295021   0.23503341  0.52316414  0.49684062]\n",
      " [ 0.65156915  0.19445803  0.16495654  0.48513321  0.270603  ]\n",
      " [ 0.39020671  0.88495705  0.13439449  0.00594989  0.73064113]\n",
      " [ 0.89063763  0.52443572  0.96978608  0.71381424  0.97218434]\n",
      " [ 0.55839627  0.82038705  0.9604905   0.70359528  0.47902248]\n",
      " [ 0.15770677  0.31191094  0.71683907  0.40526019  0.14063807]\n",
      " [ 0.6630934   0.90647895  0.56720253  0.79824154  0.36827408]\n",
      " [ 0.83865698  0.48211146  0.77771008  0.95636809  0.98928041]\n",
      " [ 0.33056284  0.339833    0.82352848  0.27188177  0.56760554]\n",
      " [ 0.8863534   0.71276265  0.50998069  0.57098128  0.71217348]]\n",
      "[[ 0.46842833]\n",
      " [ 0.83171671]\n",
      " [ 0.35079485]\n",
      " [ 0.25682616]\n",
      " [ 0.56437658]]\n"
     ]
    }
   ],
   "source": [
    "w1=np.random.random((len(X[0]),5))\n",
    "w2=np.random.random((5,1))\n",
    "print(w1)\n",
    "print(w2)"
   ]
  },
  {
   "cell_type": "code",
   "execution_count": 53,
   "metadata": {
    "colab": {
     "autoexec": {
      "startup": false,
      "wait_interval": 0
     }
    },
    "colab_type": "code",
    "collapsed": true,
    "id": "Pss6LxOWnETV"
   },
   "outputs": [],
   "source": [
    "def sigmoid(x, deriv=False):\n",
    "  if(deriv):\n",
    "    return x*(1-x)\n",
    "  else:\n",
    "    return (1/(1+np.exp(-x)))"
   ]
  },
  {
   "cell_type": "code",
   "execution_count": 54,
   "metadata": {
    "colab": {
     "autoexec": {
      "startup": false,
      "wait_interval": 0
     },
     "base_uri": "https://localhost:8080/",
     "height": 319
    },
    "colab_type": "code",
    "executionInfo": {
     "elapsed": 2953,
     "status": "ok",
     "timestamp": 1527850809718,
     "user": {
      "displayName": "Ashadullah Shawon",
      "photoUrl": "//lh3.googleusercontent.com/-sv3-XbKsdZ8/AAAAAAAAAAI/AAAAAAAAAIU/bL9XT7NS8To/s50-c-k-no/photo.jpg",
      "userId": "109724312745076703020"
     },
     "user_tz": 420
    },
    "id": "lYseSSu3tGqF",
    "outputId": "c011e88e-2795-48e9-f9b0-6b2b4ec66285"
   },
   "outputs": [
    {
     "name": "stdout",
     "output_type": "stream",
     "text": [
      "[[ -1.0880761    1.23842798   9.86625784 -11.78629979  -2.73220032]\n",
      " [ -8.12638012  14.03613493   5.41262056   1.76900685   6.61330121]\n",
      " [ -4.27168473  10.12678455   3.51811075   8.34357043  -2.80381479]\n",
      " [  1.36124981   4.65628926   1.61646366  18.45034767   7.08577906]\n",
      " [  7.53750206  -3.89688405  16.23838814  34.84578095  14.50454852]\n",
      " [  2.6651813   -0.46788839   2.37046263 -15.06146386  -5.91676727]\n",
      " [  2.14416529  -3.66244546   3.32398546  -8.53496844  -9.72614855]\n",
      " [  7.8736044   -5.77875271 -11.2125851   -4.10154989  -1.44939493]\n",
      " [ -3.96122431   8.71004998   3.0965552   15.1562257   -1.350864  ]\n",
      " [  2.01179805  -5.03934188  -2.49987099   1.63291181   4.80020672]\n",
      " [  0.14414209  -6.48051738  -2.56335571 -15.66032652  10.54918139]]\n",
      "[[ 15.88977424]\n",
      " [ 17.98667668]\n",
      " [-24.09341537]\n",
      " [-20.70238751]\n",
      " [ 17.77645357]]\n"
     ]
    }
   ],
   "source": [
    "for epoch in range(0,80000):\n",
    "  \n",
    "  eta=0.5\n",
    "  #Weighted Sum\n",
    "\n",
    "  z_h=np.dot(X,w1)\n",
    "  a_h=sigmoid(z_h)\n",
    "  \n",
    "  # second weighted sum\n",
    "  z_o=np.dot(a_h,w2)\n",
    "  a_o=sigmoid(z_o)\n",
    "  #Error Calculate\n",
    "  Ea=(0.5*(np.power((a_o-y),2)))\n",
    "  #BackPropagation dE/dw2\n",
    "  #dE/da0\n",
    "  dEda0=(a_o-y)\n",
    "  #da0/dz0\n",
    "  da0dz0=sigmoid(a_o,deriv=True)\n",
    "  #dz0/dw\n",
    "  dz0dw=a_h\n",
    "  #dE/dw2\n",
    "  st=da0dz0*dEda0\n",
    "  dEdw2=np.dot(dz0dw.T,st)\n",
    "  #Weight update\n",
    "  w2=w2-(eta*dEdw2)\n",
    "  #hidden Layer dEdw1\n",
    "  #dE/dah\n",
    "  dEdah=np.dot(st,w2.T)\n",
    "  #dzh/dw\n",
    "  dzhdw=X\n",
    "  #dah/dzh\n",
    "  dahdzh=sigmoid(a_h,deriv=True)\n",
    "  fs=dEdah*dahdzh\n",
    "  dEdw1=np.dot(dzhdw.T,fs)\n",
    "  #Weight Update\n",
    "  w1=w1-(eta*dEdw1)\n",
    " \n",
    "print(w1)\n",
    "print(w2)\n",
    "  "
   ]
  },
  {
   "cell_type": "code",
   "execution_count": 55,
   "metadata": {
    "colab": {
     "autoexec": {
      "startup": false,
      "wait_interval": 0
     },
     "base_uri": "https://localhost:8080/",
     "height": 206
    },
    "colab_type": "code",
    "executionInfo": {
     "elapsed": 919,
     "status": "ok",
     "timestamp": 1527851136352,
     "user": {
      "displayName": "Ashadullah Shawon",
      "photoUrl": "//lh3.googleusercontent.com/-sv3-XbKsdZ8/AAAAAAAAAAI/AAAAAAAAAIU/bL9XT7NS8To/s50-c-k-no/photo.jpg",
      "userId": "109724312745076703020"
     },
     "user_tz": 420
    },
    "id": "-jpT_G-auIY8",
    "outputId": "47fae7e5-db1b-44a3-ac74-9e636dc923b7"
   },
   "outputs": [
    {
     "name": "stdout",
     "output_type": "stream",
     "text": [
      "[[ 0.99996833]\n",
      " [ 0.99999254]\n",
      " [ 0.00012021]\n",
      " [ 0.0001388 ]\n",
      " [ 0.99430943]\n",
      " [ 0.00409566]\n",
      " [ 0.99035358]\n",
      " [ 0.00843775]\n",
      " [ 0.99302747]\n",
      " [ 0.00003963]\n",
      " [ 0.99993039]\n",
      " [ 0.00015518]\n",
      " [ 0.99725978]\n",
      " [ 1.        ]\n",
      " [ 0.99888911]\n",
      " [ 0.99999912]\n",
      " [ 0.98344695]\n",
      " [ 0.01935376]\n",
      " [ 0.99999994]\n",
      " [ 0.0039429 ]\n",
      " [ 0.00311552]\n",
      " [ 0.99997632]\n",
      " [ 0.99758812]\n",
      " [ 0.01198   ]\n",
      " [ 0.00019876]\n",
      " [ 0.99999147]\n",
      " [ 0.98349271]\n",
      " [ 0.99999737]\n",
      " [ 0.00012025]\n",
      " [ 0.99852609]\n",
      " [ 0.00053289]\n",
      " [ 0.00730437]\n",
      " [ 0.00313969]\n",
      " [ 0.00149928]\n",
      " [ 0.99999978]\n",
      " [ 0.0120979 ]\n",
      " [ 0.00001726]\n",
      " [ 0.00168278]\n",
      " [ 0.00020408]\n",
      " [ 0.98609842]\n",
      " [ 0.006263  ]\n",
      " [ 0.00006885]\n",
      " [ 0.00014168]\n",
      " [ 0.00001515]\n",
      " [ 0.99999999]\n",
      " [ 0.98751536]\n",
      " [ 0.00127719]\n",
      " [ 0.00736201]\n",
      " [ 0.00001482]\n",
      " [ 0.00001472]\n",
      " [ 0.99999978]\n",
      " [ 0.9894154 ]\n",
      " [ 0.99987961]\n",
      " [ 0.00530953]\n",
      " [ 0.00018136]\n",
      " [ 0.01363537]\n",
      " [ 0.00001756]\n",
      " [ 0.00030417]\n",
      " [ 0.99999866]\n",
      " [ 0.00002177]\n",
      " [ 0.0005085 ]\n",
      " [ 0.00233732]\n",
      " [ 0.00011975]\n",
      " [ 0.00033657]\n",
      " [ 0.00616135]\n",
      " [ 0.99035358]\n",
      " [ 0.99825098]\n",
      " [ 0.99846204]\n",
      " [ 0.00121767]\n",
      " [ 0.99594353]\n",
      " [ 0.99999598]\n",
      " [ 0.99912494]\n",
      " [ 0.00072951]\n",
      " [ 0.00001557]\n",
      " [ 0.00003228]\n",
      " [ 0.00001515]\n",
      " [ 0.99675185]\n",
      " [ 0.00090087]\n",
      " [ 0.99999995]\n",
      " [ 0.9832257 ]\n",
      " [ 1.        ]\n",
      " [ 0.00226118]\n",
      " [ 0.02284417]\n",
      " [ 0.00001459]\n",
      " [ 1.        ]\n",
      " [ 0.99992946]\n",
      " [ 0.00001617]\n",
      " [ 0.99999999]\n",
      " [ 0.0000168 ]\n",
      " [ 0.0001015 ]\n",
      " [ 1.        ]\n",
      " [ 1.        ]\n",
      " [ 0.0000204 ]\n",
      " [ 0.0000166 ]\n",
      " [ 0.99214603]\n",
      " [ 0.98742084]\n",
      " [ 0.00001468]\n",
      " [ 1.        ]\n",
      " [ 0.01218784]\n",
      " [ 0.9996178 ]]\n"
     ]
    }
   ],
   "source": [
    "np.set_printoptions(suppress=True)\n",
    "test_ah=sigmoid(np.dot(X,w1))\n",
    "prediction=sigmoid(np.dot(test_ah,w2))\n",
    "print(prediction)"
   ]
  },
  {
   "cell_type": "code",
   "execution_count": 56,
   "metadata": {
    "colab": {
     "autoexec": {
      "startup": false,
      "wait_interval": 0
     }
    },
    "colab_type": "code",
    "id": "4ncGjhI5un-y"
   },
   "outputs": [
    {
     "name": "stdout",
     "output_type": "stream",
     "text": [
      "[[1]\n",
      " [1]\n",
      " [0]\n",
      " [0]\n",
      " [1]\n",
      " [0]\n",
      " [1]\n",
      " [0]\n",
      " [1]\n",
      " [0]\n",
      " [1]\n",
      " [0]\n",
      " [1]\n",
      " [1]\n",
      " [1]\n",
      " [1]\n",
      " [1]\n",
      " [0]\n",
      " [1]\n",
      " [0]\n",
      " [0]\n",
      " [1]\n",
      " [1]\n",
      " [0]\n",
      " [0]\n",
      " [1]\n",
      " [1]\n",
      " [1]\n",
      " [0]\n",
      " [1]\n",
      " [0]\n",
      " [0]\n",
      " [0]\n",
      " [0]\n",
      " [1]\n",
      " [0]\n",
      " [0]\n",
      " [0]\n",
      " [0]\n",
      " [1]\n",
      " [0]\n",
      " [0]\n",
      " [0]\n",
      " [0]\n",
      " [1]\n",
      " [1]\n",
      " [0]\n",
      " [0]\n",
      " [0]\n",
      " [0]\n",
      " [1]\n",
      " [1]\n",
      " [1]\n",
      " [0]\n",
      " [0]\n",
      " [0]\n",
      " [0]\n",
      " [0]\n",
      " [1]\n",
      " [0]\n",
      " [0]\n",
      " [0]\n",
      " [0]\n",
      " [0]\n",
      " [0]\n",
      " [1]\n",
      " [1]\n",
      " [1]\n",
      " [0]\n",
      " [1]\n",
      " [1]\n",
      " [1]\n",
      " [0]\n",
      " [0]\n",
      " [0]\n",
      " [0]\n",
      " [1]\n",
      " [0]\n",
      " [1]\n",
      " [1]\n",
      " [1]\n",
      " [0]\n",
      " [0]\n",
      " [0]\n",
      " [1]\n",
      " [1]\n",
      " [0]\n",
      " [1]\n",
      " [0]\n",
      " [0]\n",
      " [1]\n",
      " [1]\n",
      " [0]\n",
      " [0]\n",
      " [1]\n",
      " [1]\n",
      " [0]\n",
      " [1]\n",
      " [0]\n",
      " [1]]\n"
     ]
    }
   ],
   "source": [
    "result=[]\n",
    "for i in range(0,100):\n",
    "    if(prediction[i]>0.90):\n",
    "        result.append(1)\n",
    "    else:\n",
    "        result.append(0)\n",
    "target=np.reshape(result,(100,1))\n",
    "print(target)"
   ]
  },
  {
   "cell_type": "code",
   "execution_count": 57,
   "metadata": {},
   "outputs": [
    {
     "name": "stdout",
     "output_type": "stream",
     "text": [
      "99.0 %\n"
     ]
    }
   ],
   "source": [
    "#Training Accuracy\n",
    "cnt=0\n",
    "\n",
    "for i in range(0,100):\n",
    "    for j in range(0,1):\n",
    "        if(target[i][j]==y[i][j]):\n",
    "            cnt=cnt+1\n",
    "\n",
    "accuracy=(cnt/100)*100.00\n",
    "print(accuracy,\"%\")\n",
    "    \n",
    "        "
   ]
  },
  {
   "cell_type": "code",
   "execution_count": null,
   "metadata": {
    "collapsed": true
   },
   "outputs": [],
   "source": []
  }
 ],
 "metadata": {
  "accelerator": "GPU",
  "colab": {
   "collapsed_sections": [],
   "default_view": {},
   "name": "Copy of MultiLayer Perception BackPropagation.ipynb",
   "provenance": [
    {
     "file_id": "1QKv981dYF4hH4Ym6eHvx1M2RgCP3XiMD",
     "timestamp": 1527846980039
    }
   ],
   "version": "0.3.2",
   "views": {}
  },
  "kernelspec": {
   "display_name": "Python 3",
   "language": "python",
   "name": "python3"
  },
  "language_info": {
   "codemirror_mode": {
    "name": "ipython",
    "version": 3
   },
   "file_extension": ".py",
   "mimetype": "text/x-python",
   "name": "python",
   "nbconvert_exporter": "python",
   "pygments_lexer": "ipython3",
   "version": "3.6.1"
  }
 },
 "nbformat": 4,
 "nbformat_minor": 1
}
