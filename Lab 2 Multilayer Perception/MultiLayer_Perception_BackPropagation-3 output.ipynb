{
 "cells": [
  {
   "cell_type": "code",
   "execution_count": 136,
   "metadata": {
    "colab": {
     "autoexec": {
      "startup": false,
      "wait_interval": 0
     }
    },
    "colab_type": "code",
    "collapsed": true,
    "id": "Zyo6kt_akbPa"
   },
   "outputs": [],
   "source": [
    "import numpy as np"
   ]
  },
  {
   "cell_type": "code",
   "execution_count": 137,
   "metadata": {
    "colab": {
     "autoexec": {
      "startup": false,
      "wait_interval": 0
     },
     "base_uri": "https://localhost:8080/",
     "height": 206
    },
    "colab_type": "code",
    "executionInfo": {
     "elapsed": 924,
     "status": "ok",
     "timestamp": 1527847833746,
     "user": {
      "displayName": "Ashadullah Shawon",
      "photoUrl": "//lh3.googleusercontent.com/-sv3-XbKsdZ8/AAAAAAAAAAI/AAAAAAAAAIU/bL9XT7NS8To/s50-c-k-no/photo.jpg",
      "userId": "109724312745076703020"
     },
     "user_tz": 420
    },
    "id": "fDjYPubCkkic",
    "outputId": "07133068-dbb0-434c-a564-390a269020e8"
   },
   "outputs": [
    {
     "name": "stdout",
     "output_type": "stream",
     "text": [
      "[[1 1 1 1 1 0 0 1 1 0 1]\n",
      " [0 0 0 0 0 1 1 1 0 1 1]\n",
      " [1 0 1 0 0 0 0 0 0 0 1]\n",
      " [0 0 0 1 0 1 0 0 1 0 1]\n",
      " [1 1 0 1 0 0 1 1 1 0 1]\n",
      " [1 0 1 0 1 1 0 1 1 1 1]\n",
      " [1 1 0 0 0 0 1 1 0 0 1]\n",
      " [0 0 1 1 1 0 1 0 1 0 1]\n",
      " [1 0 0 0 0 1 0 0 0 0 1]\n",
      " [0 1 1 0 0 0 0 1 1 1 1]\n",
      " [0 0 1 1 0 1 1 0 1 1 1]\n",
      " [0 0 1 0 1 0 1 0 1 0 1]\n",
      " [1 1 0 1 0 0 0 1 0 0 1]\n",
      " [0 1 0 1 1 0 0 0 0 1 1]\n",
      " [1 1 1 1 0 0 0 1 1 1 1]\n",
      " [0 1 1 1 0 1 0 0 0 0 1]\n",
      " [1 1 0 1 1 1 0 1 1 1 1]\n",
      " [1 0 1 0 0 0 1 1 0 0 1]\n",
      " [1 0 1 1 1 1 1 0 0 1 1]\n",
      " [1 0 1 1 0 0 0 0 0 0 1]\n",
      " [1 1 1 1 1 1 0 1 0 1 1]\n",
      " [1 1 0 0 0 0 0 1 0 0 1]\n",
      " [1 0 1 1 0 0 1 0 1 0 1]\n",
      " [0 1 1 0 0 0 0 1 0 1 1]\n",
      " [1 0 0 1 1 0 0 0 1 0 1]\n",
      " [1 1 1 1 1 1 1 0 0 1 1]\n",
      " [0 0 1 0 1 1 1 0 0 0 1]\n",
      " [1 1 0 1 0 1 1 0 0 1 1]\n",
      " [0 1 1 0 1 0 0 1 1 1 1]\n",
      " [0 0 1 0 0 1 1 1 1 1 1]\n",
      " [1 1 1 1 1 1 0 0 0 0 1]\n",
      " [0 0 1 1 1 0 0 1 0 1 1]\n",
      " [0 0 0 0 1 1 1 1 1 0 1]\n",
      " [1 1 1 0 0 1 0 0 0 0 1]\n",
      " [1 1 0 1 1 1 0 0 0 0 1]\n",
      " [1 1 0 1 0 0 0 0 0 1 1]\n",
      " [0 0 0 0 0 0 0 1 1 1 1]\n",
      " [0 1 0 0 1 0 1 1 1 0 1]\n",
      " [1 1 1 0 0 1 1 1 0 1 1]\n",
      " [0 0 1 0 1 1 0 1 1 0 1]\n",
      " [1 1 1 0 0 0 0 1 1 1 1]\n",
      " [0 1 1 1 1 1 0 1 0 0 1]\n",
      " [0 1 1 1 1 0 1 1 0 0 1]\n",
      " [1 0 0 1 1 1 1 1 0 0 1]\n",
      " [0 0 1 0 0 1 0 0 1 1 1]\n",
      " [0 1 0 1 0 0 1 0 0 1 1]\n",
      " [1 1 1 0 1 1 0 1 1 1 1]\n",
      " [0 0 1 0 0 1 0 1 1 1 1]\n",
      " [0 0 1 1 0 1 1 0 1 1 1]\n",
      " [1 0 0 0 1 1 0 1 0 0 1]]\n"
     ]
    }
   ],
   "source": [
    "\n",
    "data=np.random.randint(2,size=(50,10))\n",
    "#print(data)\n",
    "extra=np.ones((50,1),dtype=int)\n",
    "#print(extra)\n",
    "X= np.concatenate((data, extra), axis=1)\n",
    "print(X)"
   ]
  },
  {
   "cell_type": "code",
   "execution_count": 138,
   "metadata": {
    "colab": {
     "autoexec": {
      "startup": false,
      "wait_interval": 0
     },
     "base_uri": "https://localhost:8080/",
     "height": 206
    },
    "colab_type": "code",
    "executionInfo": {
     "elapsed": 919,
     "status": "ok",
     "timestamp": 1527850749052,
     "user": {
      "displayName": "Ashadullah Shawon",
      "photoUrl": "//lh3.googleusercontent.com/-sv3-XbKsdZ8/AAAAAAAAAAI/AAAAAAAAAIU/bL9XT7NS8To/s50-c-k-no/photo.jpg",
      "userId": "109724312745076703020"
     },
     "user_tz": 420
    },
    "id": "j-xcvN-j13tx",
    "outputId": "859c3c38-b0a0-40e1-851d-0613fad54c15"
   },
   "outputs": [
    {
     "name": "stdout",
     "output_type": "stream",
     "text": [
      "[[0 0 1]\n",
      " [0 0 0]\n",
      " [0 0 0]\n",
      " [0 0 1]\n",
      " [0 0 0]\n",
      " [0 0 1]\n",
      " [0 0 0]\n",
      " [0 0 1]\n",
      " [0 0 0]\n",
      " [0 0 1]\n",
      " [0 0 0]\n",
      " [0 0 0]\n",
      " [0 0 0]\n",
      " [0 0 0]\n",
      " [0 0 1]\n",
      " [0 0 0]\n",
      " [0 0 0]\n",
      " [0 0 0]\n",
      " [0 0 1]\n",
      " [0 0 1]\n",
      " [0 0 0]\n",
      " [0 0 1]\n",
      " [0 0 1]\n",
      " [0 0 0]\n",
      " [0 0 0]\n",
      " [0 0 0]\n",
      " [0 0 0]\n",
      " [0 0 0]\n",
      " [0 0 0]\n",
      " [0 0 0]\n",
      " [0 0 0]\n",
      " [0 0 1]\n",
      " [0 0 1]\n",
      " [0 0 0]\n",
      " [0 0 1]\n",
      " [0 0 0]\n",
      " [0 0 1]\n",
      " [0 0 1]\n",
      " [0 0 1]\n",
      " [0 0 1]\n",
      " [0 0 0]\n",
      " [0 0 0]\n",
      " [0 0 0]\n",
      " [0 0 0]\n",
      " [0 0 0]\n",
      " [0 0 0]\n",
      " [0 0 0]\n",
      " [0 0 1]\n",
      " [0 0 0]\n",
      " [0 0 0]]\n"
     ]
    }
   ],
   "source": [
    "ans=[]\n",
    "temp=[]\n",
    "for i in range(0,50):\n",
    "  res=0\n",
    "  for j in range(0,10):\n",
    "      #print((X[i][j]), end = '')\n",
    "     res=abs(X[i][j]-res)\n",
    "     \n",
    "  #print(\"\")\n",
    "  re=np.binary_repr(res, width=3)\n",
    "  temp=[]\n",
    "  for k in re:\n",
    "      temp.append(int(k))\n",
    "      \n",
    "  ans.append(temp)\n",
    "y=np.reshape(ans,(50,3))\n",
    "print(y)\n",
    "      "
   ]
  },
  {
   "cell_type": "code",
   "execution_count": 139,
   "metadata": {
    "colab": {
     "autoexec": {
      "startup": false,
      "wait_interval": 0
     },
     "base_uri": "https://localhost:8080/",
     "height": 319
    },
    "colab_type": "code",
    "executionInfo": {
     "elapsed": 1001,
     "status": "ok",
     "timestamp": 1527850788569,
     "user": {
      "displayName": "Ashadullah Shawon",
      "photoUrl": "//lh3.googleusercontent.com/-sv3-XbKsdZ8/AAAAAAAAAAI/AAAAAAAAAIU/bL9XT7NS8To/s50-c-k-no/photo.jpg",
      "userId": "109724312745076703020"
     },
     "user_tz": 420
    },
    "id": "v2N53vBCmKcq",
    "outputId": "3e89d6b4-ef97-4a83-9e63-69ab2d6b4079"
   },
   "outputs": [
    {
     "name": "stdout",
     "output_type": "stream",
     "text": [
      "[[ 0.96041155  0.7305858   0.573741    0.3287706   0.14816729  0.42124835\n",
      "   0.73116154  0.24688401]\n",
      " [ 0.93335935  0.04167742  0.13435741  0.10842099  0.26691914  0.22393367\n",
      "   0.16553155  0.62914112]\n",
      " [ 0.90527039  0.0117997   0.19944131  0.65905376  0.81150935  0.59909574\n",
      "   0.62641796  0.24070094]\n",
      " [ 0.81799806  0.13606347  0.63239591  0.05523897  0.35003425  0.60563055\n",
      "   0.24345542  0.64569588]\n",
      " [ 0.93932543  0.94079835  0.3399982   0.12157758  0.51235906  0.19528074\n",
      "   0.5487068   0.75710793]\n",
      " [ 0.04676963  0.31905149  0.74957563  0.39379697  0.06439771  0.17041207\n",
      "   0.11782728  0.72038092]\n",
      " [ 0.57090666  0.77017079  0.28468009  0.00823165  0.00654478  0.76540895\n",
      "   0.2518093   0.33121744]\n",
      " [ 0.95975601  0.20667123  0.51170273  0.65092163  0.11903821  0.57903337\n",
      "   0.52890889  0.01530145]\n",
      " [ 0.88541915  0.01046887  0.13748547  0.51630674  0.90141134  0.07695817\n",
      "   0.46541319  0.72494209]\n",
      " [ 0.30869887  0.99196228  0.20208131  0.41647401  0.66715229  0.4491527\n",
      "   0.41767305  0.15847047]\n",
      " [ 0.6978416   0.59259255  0.97840334  0.19034007  0.70475822  0.18358875\n",
      "   0.19849532  0.10869096]]\n",
      "[[ 0.24213097  0.87880954  0.46397519]\n",
      " [ 0.82511364  0.67500301  0.02118541]\n",
      " [ 0.51020156  0.91689704  0.12162318]\n",
      " [ 0.24760078  0.54787577  0.28504243]\n",
      " [ 0.56719414  0.32600051  0.52369945]\n",
      " [ 0.52002305  0.218464    0.28058739]\n",
      " [ 0.18396705  0.82952655  0.76338078]\n",
      " [ 0.40199597  0.47640952  0.82396062]]\n"
     ]
    }
   ],
   "source": [
    "w1=np.random.random((len(X[0]),8))\n",
    "w2=np.random.random((8,3))\n",
    "print(w1)\n",
    "print(w2)"
   ]
  },
  {
   "cell_type": "code",
   "execution_count": 140,
   "metadata": {
    "colab": {
     "autoexec": {
      "startup": false,
      "wait_interval": 0
     }
    },
    "colab_type": "code",
    "collapsed": true,
    "id": "Pss6LxOWnETV"
   },
   "outputs": [],
   "source": [
    "def sigmoid(x, deriv=False):\n",
    "  if(deriv):\n",
    "    return x*(1-x)\n",
    "  else:\n",
    "    return (1/(1+np.exp(-x)))"
   ]
  },
  {
   "cell_type": "code",
   "execution_count": 141,
   "metadata": {
    "colab": {
     "autoexec": {
      "startup": false,
      "wait_interval": 0
     },
     "base_uri": "https://localhost:8080/",
     "height": 319
    },
    "colab_type": "code",
    "executionInfo": {
     "elapsed": 2953,
     "status": "ok",
     "timestamp": 1527850809718,
     "user": {
      "displayName": "Ashadullah Shawon",
      "photoUrl": "//lh3.googleusercontent.com/-sv3-XbKsdZ8/AAAAAAAAAAI/AAAAAAAAAIU/bL9XT7NS8To/s50-c-k-no/photo.jpg",
      "userId": "109724312745076703020"
     },
     "user_tz": 420
    },
    "id": "lYseSSu3tGqF",
    "outputId": "c011e88e-2795-48e9-f9b0-6b2b4ec66285"
   },
   "outputs": [
    {
     "name": "stdout",
     "output_type": "stream",
     "text": [
      "[[ 1.53443913  0.77848415  0.20242309 -4.3957388  -0.07088646  4.69306537\n",
      "   5.5124591   1.49124189]\n",
      " [ 1.72231677  9.87984581  0.28414498  4.41699093  1.38037286 -1.28243367\n",
      "  -5.41016996  2.89408265]\n",
      " [-1.83794883 -0.95657591 -0.02197949  6.07306168 -0.01431132  5.33583596\n",
      "   2.27889765 -5.98738172]\n",
      " [ 2.18732109 -6.22238748  0.9626006   1.55565282  1.06281069  5.25147893\n",
      "  -1.86746938 -0.62420304]\n",
      " [ 1.89102681  0.92315543 -1.22610718  2.0870245   0.91555132  4.45391568\n",
      "  -2.15182678 -0.08332308]\n",
      " [-1.05462474  4.83108097  1.06289388  3.80307299  0.65143712 -0.06858119\n",
      "  -1.70655585  1.49537349]\n",
      " [ 0.69929025  6.64824043  1.43859284  0.08216041 -0.41306693  4.31279949\n",
      "   2.20779879 -2.25230808]\n",
      " [ 1.38069114 -5.17601462  0.61519696 -1.03737326  0.30878797 -4.42257502\n",
      "   1.52221221 -0.66518508]\n",
      " [ 0.41869912 -8.20897791 -0.48624318  0.56653722  1.08916954 -4.95877064\n",
      "  -4.2437061  -2.80922406]\n",
      " [ 0.86376618  3.11941172 -0.12213994 -1.20568675  1.1583592   5.25187928\n",
      "   2.46598791 -3.00945548]\n",
      " [-0.9098181   3.27976116  0.78790848 -3.1535959   0.63420225 -1.59917687\n",
      "  -4.2059227  -2.24412963]]\n",
      "[[ -2.63609631  -2.25191755   4.34991035]\n",
      " [ -0.79022055  -1.06696742 -12.65462605]\n",
      " [ -2.19813483  -1.97513304   2.40172421]\n",
      " [ -1.56269012  -1.37059873  11.82246078]\n",
      " [ -2.72035436  -3.15206957   2.29619063]\n",
      " [ -1.19609727  -1.59099777 -14.18102927]\n",
      " [ -1.36401216  -0.90292213  12.88727772]\n",
      " [ -1.13495089  -1.23702592  12.43721318]]\n"
     ]
    }
   ],
   "source": [
    "for epoch in range(0,120000):\n",
    "  \n",
    "  eta=0.5\n",
    "  #Weighted Sum\n",
    "\n",
    "  z_h=np.dot(X,w1)\n",
    "  a_h=sigmoid(z_h)\n",
    "  \n",
    "  # second weighted sum\n",
    "  z_o=np.dot(a_h,w2)\n",
    "  a_o=sigmoid(z_o)\n",
    "  #Error Calculate\n",
    "  Ea=(0.5*(np.power((a_o-y),2)))\n",
    "  #BackPropagation dE/dw2\n",
    "  #dE/da0\n",
    "  dEda0=(a_o-y)\n",
    "  #da0/dz0\n",
    "  da0dz0=sigmoid(a_o,deriv=True)\n",
    "  #dz0/dw\n",
    "  dz0dw=a_h\n",
    "  #dE/dw2\n",
    "  st=da0dz0*dEda0\n",
    "  dEdw2=np.dot(dz0dw.T,st)\n",
    "  #Weight update\n",
    "  w2=w2-(eta*dEdw2)\n",
    "  #hidden Layer dEdw1\n",
    "  #dE/dah\n",
    "  dEdah=np.dot(st,w2.T)\n",
    "  #dzh/dw\n",
    "  dzhdw=X\n",
    "  #dah/dzh\n",
    "  dahdzh=sigmoid(a_h,deriv=True)\n",
    "  fs=dEdah*dahdzh\n",
    "  dEdw1=np.dot(dzhdw.T,fs)\n",
    "  #Weight Update\n",
    "  w1=w1-(eta*dEdw1)\n",
    " \n",
    "print(w1)\n",
    "print(w2)\n",
    "  "
   ]
  },
  {
   "cell_type": "code",
   "execution_count": 142,
   "metadata": {
    "colab": {
     "autoexec": {
      "startup": false,
      "wait_interval": 0
     },
     "base_uri": "https://localhost:8080/",
     "height": 206
    },
    "colab_type": "code",
    "executionInfo": {
     "elapsed": 919,
     "status": "ok",
     "timestamp": 1527851136352,
     "user": {
      "displayName": "Ashadullah Shawon",
      "photoUrl": "//lh3.googleusercontent.com/-sv3-XbKsdZ8/AAAAAAAAAAI/AAAAAAAAAIU/bL9XT7NS8To/s50-c-k-no/photo.jpg",
      "userId": "109724312745076703020"
     },
     "user_tz": 420
    },
    "id": "-jpT_G-auIY8",
    "outputId": "47fae7e5-db1b-44a3-ac74-9e636dc923b7"
   },
   "outputs": [
    {
     "name": "stdout",
     "output_type": "stream",
     "text": [
      "[[ 0.00005812  0.00005355  0.99758876]\n",
      " [ 0.00007055  0.00005447  0.0000913 ]\n",
      " [ 0.00055675  0.00045614  0.00064746]\n",
      " [ 0.00030471  0.00034896  0.99999985]\n",
      " [ 0.00009206  0.00006501  0.00001547]\n",
      " [ 0.00004845  0.00004739  0.99918167]\n",
      " [ 0.00005459  0.0000434   0.00125193]\n",
      " [ 0.00006799  0.0000623   0.99655237]\n",
      " [ 0.0002321   0.00013843  0.00123851]\n",
      " [ 0.00012745  0.00012092  0.99794767]\n",
      " [ 0.00005154  0.0000333   0.00111256]\n",
      " [ 0.00016202  0.00010133  0.00089093]\n",
      " [ 0.00004112  0.00002492  0.00154995]\n",
      " [ 0.00003179  0.00002159  0.00146   ]\n",
      " [ 0.00004379  0.00004126  0.99645684]\n",
      " [ 0.00006087  0.00003742  0.00032355]\n",
      " [ 0.0000214   0.00001533  0.00207482]\n",
      " [ 0.00011423  0.00011743  0.00220205]\n",
      " [ 0.00000546  0.00000607  0.99627258]\n",
      " [ 0.00009139  0.00011139  0.99992765]\n",
      " [ 0.00001725  0.00001268  0.00304308]\n",
      " [ 0.00014182  0.00011927  0.9975247 ]\n",
      " [ 0.0000595   0.00006494  0.99934788]\n",
      " [ 0.00004421  0.00002996  0.00139935]\n",
      " [ 0.00042315  0.00031258  0.00339382]\n",
      " [ 0.00001551  0.00001164  0.00452225]\n",
      " [ 0.00021136  0.00012187  0.00006932]\n",
      " [ 0.00002008  0.0000143   0.00074954]\n",
      " [ 0.00006055  0.00004075  0.00275663]\n",
      " [ 0.00007552  0.0000484   0.00209466]\n",
      " [ 0.00002036  0.00001449  0.0029536 ]\n",
      " [ 0.00005795  0.00005579  0.99928352]\n",
      " [ 0.00009433  0.00009684  0.998276  ]\n",
      " [ 0.00010304  0.00006049  0.00047568]\n",
      " [ 0.00000696  0.00000455  0.99538455]\n",
      " [ 0.00006841  0.0000411   0.00000039]\n",
      " [ 0.00164777  0.00176996  0.99957061]\n",
      " [ 0.00008489  0.00008766  0.99883924]\n",
      " [ 0.00000589  0.00000651  0.99597555]\n",
      " [ 0.00074132  0.00075275  0.99999951]\n",
      " [ 0.00003778  0.00002744  0.00162073]\n",
      " [ 0.0000198   0.00001422  0.0019825 ]\n",
      " [ 0.00001824  0.00001338  0.00210825]\n",
      " [ 0.00003427  0.00002581  0.00005213]\n",
      " [ 0.00034354  0.00017796  0.00013848]\n",
      " [ 0.00002234  0.00001596  0.00037295]\n",
      " [ 0.0000275   0.0000191   0.00134193]\n",
      " [ 0.00069317  0.00062635  0.9999883 ]\n",
      " [ 0.00005154  0.0000333   0.00111256]\n",
      " [ 0.00006011  0.00003941  0.00051325]]\n"
     ]
    }
   ],
   "source": [
    "np.set_printoptions(suppress=True)\n",
    "test_ah=sigmoid(np.dot(X,w1))\n",
    "prediction=sigmoid(np.dot(test_ah,w2))\n",
    "print(prediction)"
   ]
  },
  {
   "cell_type": "code",
   "execution_count": 143,
   "metadata": {
    "colab": {
     "autoexec": {
      "startup": false,
      "wait_interval": 0
     }
    },
    "colab_type": "code",
    "id": "4ncGjhI5un-y"
   },
   "outputs": [
    {
     "name": "stdout",
     "output_type": "stream",
     "text": [
      "[[0 0 1]\n",
      " [0 0 0]\n",
      " [0 0 0]\n",
      " [0 0 1]\n",
      " [0 0 0]\n",
      " [0 0 1]\n",
      " [0 0 0]\n",
      " [0 0 1]\n",
      " [0 0 0]\n",
      " [0 0 1]\n",
      " [0 0 0]\n",
      " [0 0 0]\n",
      " [0 0 0]\n",
      " [0 0 0]\n",
      " [0 0 1]\n",
      " [0 0 0]\n",
      " [0 0 0]\n",
      " [0 0 0]\n",
      " [0 0 1]\n",
      " [0 0 1]\n",
      " [0 0 0]\n",
      " [0 0 1]\n",
      " [0 0 1]\n",
      " [0 0 0]\n",
      " [0 0 0]\n",
      " [0 0 0]\n",
      " [0 0 0]\n",
      " [0 0 0]\n",
      " [0 0 0]\n",
      " [0 0 0]\n",
      " [0 0 0]\n",
      " [0 0 1]\n",
      " [0 0 1]\n",
      " [0 0 0]\n",
      " [0 0 1]\n",
      " [0 0 0]\n",
      " [0 0 1]\n",
      " [0 0 1]\n",
      " [0 0 1]\n",
      " [0 0 1]\n",
      " [0 0 0]\n",
      " [0 0 0]\n",
      " [0 0 0]\n",
      " [0 0 0]\n",
      " [0 0 0]\n",
      " [0 0 0]\n",
      " [0 0 0]\n",
      " [0 0 1]\n",
      " [0 0 0]\n",
      " [0 0 0]]\n"
     ]
    }
   ],
   "source": [
    "result=[]\n",
    "for i in range(0,50):\n",
    "    tp=[]\n",
    "    for j in range(0,3):\n",
    "        if(prediction[i][j]>0.90):\n",
    "            tp.append(1)\n",
    "        else:\n",
    "            tp.append(0)\n",
    "    result.append(tp)\n",
    "target=np.reshape(result,(50,3))\n",
    "print(target)"
   ]
  },
  {
   "cell_type": "code",
   "execution_count": 144,
   "metadata": {},
   "outputs": [
    {
     "name": "stdout",
     "output_type": "stream",
     "text": [
      "100.0 %\n"
     ]
    }
   ],
   "source": [
    "#Training Accuracy\n",
    "cnt=0\n",
    "\n",
    "for i in range(0,50):\n",
    "    for j in range(0,3):\n",
    "        if(target[i][j]==y[i][j]):\n",
    "            cnt=cnt+1\n",
    "\n",
    "accuracy=(cnt/150.00)*100.00\n",
    "print(accuracy,\"%\")\n",
    "    \n",
    "        "
   ]
  },
  {
   "cell_type": "code",
   "execution_count": null,
   "metadata": {
    "collapsed": true
   },
   "outputs": [],
   "source": []
  }
 ],
 "metadata": {
  "accelerator": "GPU",
  "colab": {
   "collapsed_sections": [],
   "default_view": {},
   "name": "Copy of MultiLayer Perception BackPropagation.ipynb",
   "provenance": [
    {
     "file_id": "1QKv981dYF4hH4Ym6eHvx1M2RgCP3XiMD",
     "timestamp": 1527846980039
    }
   ],
   "version": "0.3.2",
   "views": {}
  },
  "kernelspec": {
   "display_name": "Python 3",
   "language": "python",
   "name": "python3"
  },
  "language_info": {
   "codemirror_mode": {
    "name": "ipython",
    "version": 3
   },
   "file_extension": ".py",
   "mimetype": "text/x-python",
   "name": "python",
   "nbconvert_exporter": "python",
   "pygments_lexer": "ipython3",
   "version": "3.6.1"
  }
 },
 "nbformat": 4,
 "nbformat_minor": 1
}
