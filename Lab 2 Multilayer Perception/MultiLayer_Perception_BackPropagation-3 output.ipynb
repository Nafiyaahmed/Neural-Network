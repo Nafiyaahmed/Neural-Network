{
 "cells": [
  {
   "cell_type": "code",
   "execution_count": 45,
   "metadata": {
    "colab": {
     "autoexec": {
      "startup": false,
      "wait_interval": 0
     }
    },
    "colab_type": "code",
    "collapsed": true,
    "id": "Zyo6kt_akbPa"
   },
   "outputs": [],
   "source": [
    "import numpy as np"
   ]
  },
  {
   "cell_type": "code",
   "execution_count": 47,
   "metadata": {
    "colab": {
     "autoexec": {
      "startup": false,
      "wait_interval": 0
     },
     "base_uri": "https://localhost:8080/",
     "height": 206
    },
    "colab_type": "code",
    "executionInfo": {
     "elapsed": 924,
     "status": "ok",
     "timestamp": 1527847833746,
     "user": {
      "displayName": "Ashadullah Shawon",
      "photoUrl": "//lh3.googleusercontent.com/-sv3-XbKsdZ8/AAAAAAAAAAI/AAAAAAAAAIU/bL9XT7NS8To/s50-c-k-no/photo.jpg",
      "userId": "109724312745076703020"
     },
     "user_tz": 420
    },
    "id": "fDjYPubCkkic",
    "outputId": "07133068-dbb0-434c-a564-390a269020e8"
   },
   "outputs": [
    {
     "name": "stdout",
     "output_type": "stream",
     "text": [
      "[[0 1 0 1 1 1 1 0 0 1 1]\n",
      " [1 0 0 1 1 1 1 0 1 1 1]\n",
      " [1 1 1 0 1 1 1 0 0 0 1]\n",
      " [0 0 1 1 1 0 0 0 1 0 1]\n",
      " [0 1 1 0 0 1 1 0 0 1 1]\n",
      " [0 1 1 1 0 0 1 1 0 0 1]\n",
      " [1 1 0 1 0 1 0 1 0 1 1]\n",
      " [1 0 1 0 0 1 0 0 0 0 1]\n",
      " [1 1 0 0 1 1 1 1 1 0 1]\n",
      " [1 0 0 0 0 0 1 0 1 0 1]]\n"
     ]
    }
   ],
   "source": [
    "\n",
    "data=np.random.randint(2,size=(10,10))\n",
    "#print(data)\n",
    "extra=np.ones((10,1),dtype=int)\n",
    "#print(extra)\n",
    "X= np.concatenate((data, extra), axis=1)\n",
    "print(X)"
   ]
  },
  {
   "cell_type": "code",
   "execution_count": 48,
   "metadata": {
    "colab": {
     "autoexec": {
      "startup": false,
      "wait_interval": 0
     },
     "base_uri": "https://localhost:8080/",
     "height": 206
    },
    "colab_type": "code",
    "executionInfo": {
     "elapsed": 919,
     "status": "ok",
     "timestamp": 1527850749052,
     "user": {
      "displayName": "Ashadullah Shawon",
      "photoUrl": "//lh3.googleusercontent.com/-sv3-XbKsdZ8/AAAAAAAAAAI/AAAAAAAAAIU/bL9XT7NS8To/s50-c-k-no/photo.jpg",
      "userId": "109724312745076703020"
     },
     "user_tz": 420
    },
    "id": "j-xcvN-j13tx",
    "outputId": "859c3c38-b0a0-40e1-851d-0613fad54c15"
   },
   "outputs": [
    {
     "name": "stdout",
     "output_type": "stream",
     "text": [
      "[[0 0 0]\n",
      " [0 0 1]\n",
      " [0 0 0]\n",
      " [0 0 0]\n",
      " [0 0 1]\n",
      " [0 0 1]\n",
      " [0 0 0]\n",
      " [0 0 1]\n",
      " [0 0 1]\n",
      " [0 0 1]]\n"
     ]
    }
   ],
   "source": [
    "ans=[]\n",
    "temp=[]\n",
    "for i in range(0,10):\n",
    "  res=0\n",
    "  for j in range(0,10):\n",
    "      #print((X[i][j]), end = '')\n",
    "     res=abs(X[i][j]-res)\n",
    "     \n",
    "  #print(\"\")\n",
    "  re=np.binary_repr(res, width=3)\n",
    "  temp=[]\n",
    "  for k in re:\n",
    "      temp.append(int(k))\n",
    "      \n",
    "  ans.append(temp)\n",
    "y=np.reshape(ans,(10,3))\n",
    "print(y)\n",
    "      "
   ]
  },
  {
   "cell_type": "code",
   "execution_count": 49,
   "metadata": {
    "colab": {
     "autoexec": {
      "startup": false,
      "wait_interval": 0
     },
     "base_uri": "https://localhost:8080/",
     "height": 319
    },
    "colab_type": "code",
    "executionInfo": {
     "elapsed": 1001,
     "status": "ok",
     "timestamp": 1527850788569,
     "user": {
      "displayName": "Ashadullah Shawon",
      "photoUrl": "//lh3.googleusercontent.com/-sv3-XbKsdZ8/AAAAAAAAAAI/AAAAAAAAAIU/bL9XT7NS8To/s50-c-k-no/photo.jpg",
      "userId": "109724312745076703020"
     },
     "user_tz": 420
    },
    "id": "v2N53vBCmKcq",
    "outputId": "3e89d6b4-ef97-4a83-9e63-69ab2d6b4079"
   },
   "outputs": [
    {
     "name": "stdout",
     "output_type": "stream",
     "text": [
      "[[ 0.12586533  0.02770689  0.64044877  0.05750824  0.67757949  0.73618364\n",
      "   0.22465821  0.14589776]\n",
      " [ 0.5059037   0.3706837   0.25331071  0.64175254  0.74858655  0.25735311\n",
      "   0.69002895  0.67767733]\n",
      " [ 0.76365004  0.22987463  0.09260781  0.06857004  0.50531285  0.34254248\n",
      "   0.33823934  0.01232179]\n",
      " [ 0.08944356  0.59757267  0.885773    0.75358192  0.67798634  0.7338829\n",
      "   0.71692293  0.42166702]\n",
      " [ 0.65571514  0.63863021  0.83380084  0.16225863  0.3091504   0.33248155\n",
      "   0.63573272  0.64124054]\n",
      " [ 0.68991206  0.50511738  0.77350171  0.12512952  0.91617953  0.89803621\n",
      "   0.82369645  0.13436062]\n",
      " [ 0.52046508  0.91793668  0.3109408   0.62046702  0.53367402  0.07722165\n",
      "   0.97333658  0.64768996]\n",
      " [ 0.28337592  0.16257915  0.23149833  0.31297909  0.71299112  0.49750477\n",
      "   0.6842456   0.96628501]\n",
      " [ 0.69429094  0.84087343  0.91521573  0.29921159  0.23871599  0.76115983\n",
      "   0.06190412  0.31621255]\n",
      " [ 0.81678726  0.66738907  0.71382737  0.63514529  0.10043474  0.77647933\n",
      "   0.37191137  0.55069026]\n",
      " [ 0.76687769  0.54896165  0.79596159  0.20819351  0.92949497  0.76130027\n",
      "   0.94196215  0.93963381]]\n",
      "[[ 0.16293786  0.67713483  0.83403609]\n",
      " [ 0.63653482  0.94676131  0.60447511]\n",
      " [ 0.59992656  0.14991891  0.04612447]\n",
      " [ 0.99487797  0.53142696  0.80518965]\n",
      " [ 0.34129187  0.10534528  0.69210092]\n",
      " [ 0.96271634  0.76880493  0.39982143]\n",
      " [ 0.02995854  0.66095387  0.11091125]\n",
      " [ 0.25142099  0.3616341   0.99289681]]\n"
     ]
    }
   ],
   "source": [
    "w1=np.random.random((len(X[0]),8))\n",
    "w2=np.random.random((8,3))\n",
    "print(w1)\n",
    "print(w2)"
   ]
  },
  {
   "cell_type": "code",
   "execution_count": 50,
   "metadata": {
    "colab": {
     "autoexec": {
      "startup": false,
      "wait_interval": 0
     }
    },
    "colab_type": "code",
    "collapsed": true,
    "id": "Pss6LxOWnETV"
   },
   "outputs": [],
   "source": [
    "def sigmoid(x, deriv=False):\n",
    "  if(deriv):\n",
    "    return x*(1-x)\n",
    "  else:\n",
    "    return (1/(1+np.exp(-x)))"
   ]
  },
  {
   "cell_type": "code",
   "execution_count": 51,
   "metadata": {
    "colab": {
     "autoexec": {
      "startup": false,
      "wait_interval": 0
     },
     "base_uri": "https://localhost:8080/",
     "height": 319
    },
    "colab_type": "code",
    "executionInfo": {
     "elapsed": 2953,
     "status": "ok",
     "timestamp": 1527850809718,
     "user": {
      "displayName": "Ashadullah Shawon",
      "photoUrl": "//lh3.googleusercontent.com/-sv3-XbKsdZ8/AAAAAAAAAAI/AAAAAAAAAIU/bL9XT7NS8To/s50-c-k-no/photo.jpg",
      "userId": "109724312745076703020"
     },
     "user_tz": 420
    },
    "id": "lYseSSu3tGqF",
    "outputId": "c011e88e-2795-48e9-f9b0-6b2b4ec66285"
   },
   "outputs": [
    {
     "name": "stdout",
     "output_type": "stream",
     "text": [
      "[[ 0.32258295  0.06464222  0.27082314 -0.02078038  1.13708281  0.76089158\n",
      "  -0.62150535  1.05266335]\n",
      " [ 0.22763589  0.43874688  4.2526551  -1.3118715   0.7445326   0.28773296\n",
      "   1.05659063  0.53235323]\n",
      " [ 1.0941973   0.23010179 -0.31895168  0.18031713  0.29478761  0.42045646\n",
      "  -0.16054244 -0.10494449]\n",
      " [-0.37870922  0.67093304  2.08686782 -0.48596457  0.12715237  0.78659087\n",
      "   1.14837494 -0.47790627]\n",
      " [ 0.31614566  0.71376236  5.46294425 -1.91396645 -0.35904294  0.35785738\n",
      "   1.18780354 -0.5979681 ]\n",
      " [ 0.64612951  0.53443172 -0.40576832  0.01208439  1.18918916  0.94298372\n",
      "   0.07736656  0.82432354]\n",
      " [ 0.98272958  0.9321454  -4.93346148  1.71813196  0.92630854  0.10549657\n",
      "   0.66012222  1.13347942]\n",
      " [ 0.16281924  0.1886507  -1.92532268  0.64614625  0.80295511  0.5222129\n",
      "   0.74750893  1.11440268]\n",
      " [ 0.77685295  0.87141842 -3.60756026  1.38681971 -0.04745993  0.77876827\n",
      "  -0.06001227 -0.23295362]\n",
      " [ 0.42366336  0.71363135  0.28729725  0.03711271  0.1435194   0.78890197\n",
      "   0.3698615   0.63137232]\n",
      " [ 0.9124866   0.60279858 -1.75143751  0.33067648  0.89658544  0.84443745\n",
      "   0.25844527  1.04594209]]\n",
      "[[ -1.65484037  -1.22069948   1.5658469 ]\n",
      " [ -1.11053535  -0.88252578   0.02584409]\n",
      " [ -0.71854545  -1.21465824 -12.58928979]\n",
      " [ -0.47423633  -0.99403313   3.47008897]\n",
      " [ -1.47337969  -1.78634978   1.85965144]\n",
      " [ -0.85086374  -1.12328246   0.52614271]\n",
      " [ -1.61306675  -1.081311    -1.36541985]\n",
      " [ -1.47694546  -1.43921833   2.17720222]]\n"
     ]
    }
   ],
   "source": [
    "for epoch in range(0,120000):\n",
    "  \n",
    "  eta=0.5\n",
    "  #Weighted Sum\n",
    "\n",
    "  z_h=np.dot(X,w1)\n",
    "  a_h=sigmoid(z_h)\n",
    "  \n",
    "  # second weighted sum\n",
    "  z_o=np.dot(a_h,w2)\n",
    "  a_o=sigmoid(z_o)\n",
    "  #Error Calculate\n",
    "  Ea=(0.5*(np.power((a_o-y),2)))\n",
    "  #BackPropagation dE/dw2\n",
    "  #dE/da0\n",
    "  dEda0=(a_o-y)\n",
    "  #da0/dz0\n",
    "  da0dz0=sigmoid(a_o,deriv=True)\n",
    "  #dz0/dw\n",
    "  dz0dw=a_h\n",
    "  #dE/dw2\n",
    "  st=da0dz0*dEda0\n",
    "  dEdw2=np.dot(dz0dw.T,st)\n",
    "  #Weight update\n",
    "  w2=w2-(eta*dEdw2)\n",
    "  #hidden Layer dEdw1\n",
    "  #dE/dah\n",
    "  dEdah=np.dot(st,w2.T)\n",
    "  #dzh/dw\n",
    "  dzhdw=X\n",
    "  #dah/dzh\n",
    "  dahdzh=sigmoid(a_h,deriv=True)\n",
    "  fs=dEdah*dahdzh\n",
    "  dEdw1=np.dot(dzhdw.T,fs)\n",
    "  #Weight Update\n",
    "  w1=w1-(eta*dEdw1)\n",
    " \n",
    "print(w1)\n",
    "print(w2)\n",
    "  "
   ]
  },
  {
   "cell_type": "code",
   "execution_count": 52,
   "metadata": {
    "colab": {
     "autoexec": {
      "startup": false,
      "wait_interval": 0
     },
     "base_uri": "https://localhost:8080/",
     "height": 206
    },
    "colab_type": "code",
    "executionInfo": {
     "elapsed": 919,
     "status": "ok",
     "timestamp": 1527851136352,
     "user": {
      "displayName": "Ashadullah Shawon",
      "photoUrl": "//lh3.googleusercontent.com/-sv3-XbKsdZ8/AAAAAAAAAAI/AAAAAAAAAIU/bL9XT7NS8To/s50-c-k-no/photo.jpg",
      "userId": "109724312745076703020"
     },
     "user_tz": 420
    },
    "id": "-jpT_G-auIY8",
    "outputId": "47fae7e5-db1b-44a3-ac74-9e636dc923b7"
   },
   "outputs": [
    {
     "name": "stdout",
     "output_type": "stream",
     "text": [
      "[[ 0.0001563   0.00016476  0.00064668]\n",
      " [ 0.0002266   0.00027588  0.99837223]\n",
      " [ 0.00016074  0.00016087  0.00256728]\n",
      " [ 0.00063294  0.00064343  0.00131178]\n",
      " [ 0.00025387  0.00030787  0.99871088]\n",
      " [ 0.00025159  0.00030703  0.99818144]\n",
      " [ 0.00016466  0.00015627  0.00219113]\n",
      " [ 0.00082348  0.00074823  0.99807502]\n",
      " [ 0.00021597  0.00027072  0.99829813]\n",
      " [ 0.00052541  0.00047792  0.99978278]]\n"
     ]
    }
   ],
   "source": [
    "np.set_printoptions(suppress=True)\n",
    "test_ah=sigmoid(np.dot(X,w1))\n",
    "prediction=sigmoid(np.dot(test_ah,w2))\n",
    "print(prediction)"
   ]
  },
  {
   "cell_type": "code",
   "execution_count": 55,
   "metadata": {
    "colab": {
     "autoexec": {
      "startup": false,
      "wait_interval": 0
     }
    },
    "colab_type": "code",
    "id": "4ncGjhI5un-y"
   },
   "outputs": [
    {
     "name": "stdout",
     "output_type": "stream",
     "text": [
      "[[0 0 0]\n",
      " [0 0 1]\n",
      " [0 0 0]\n",
      " [0 0 0]\n",
      " [0 0 1]\n",
      " [0 0 1]\n",
      " [0 0 0]\n",
      " [0 0 1]\n",
      " [0 0 1]\n",
      " [0 0 1]]\n"
     ]
    }
   ],
   "source": [
    "result=[]\n",
    "for i in range(0,10):\n",
    "    tp=[]\n",
    "    for j in range(0,3):\n",
    "        if(prediction[i][j]>0.90):\n",
    "            tp.append(1)\n",
    "        else:\n",
    "            tp.append(0)\n",
    "    result.append(tp)\n",
    "target=np.reshape(result,(10,3))\n",
    "print(target)"
   ]
  },
  {
   "cell_type": "code",
   "execution_count": 57,
   "metadata": {},
   "outputs": [
    {
     "name": "stdout",
     "output_type": "stream",
     "text": [
      "100.0 %\n"
     ]
    }
   ],
   "source": [
    "#Training Accuracy\n",
    "cnt=0\n",
    "\n",
    "for i in range(0,10):\n",
    "    for j in range(0,3):\n",
    "        if(target[i][j]==y[i][j]):\n",
    "            cnt=cnt+1\n",
    "\n",
    "accuracy=(cnt/30.00)*100.00\n",
    "print(accuracy,\"%\")\n",
    "    \n",
    "        "
   ]
  },
  {
   "cell_type": "code",
   "execution_count": null,
   "metadata": {
    "collapsed": true
   },
   "outputs": [],
   "source": []
  }
 ],
 "metadata": {
  "accelerator": "GPU",
  "colab": {
   "collapsed_sections": [],
   "default_view": {},
   "name": "Copy of MultiLayer Perception BackPropagation.ipynb",
   "provenance": [
    {
     "file_id": "1QKv981dYF4hH4Ym6eHvx1M2RgCP3XiMD",
     "timestamp": 1527846980039
    }
   ],
   "version": "0.3.2",
   "views": {}
  },
  "kernelspec": {
   "display_name": "Python 3",
   "language": "python",
   "name": "python3"
  },
  "language_info": {
   "codemirror_mode": {
    "name": "ipython",
    "version": 3
   },
   "file_extension": ".py",
   "mimetype": "text/x-python",
   "name": "python",
   "nbconvert_exporter": "python",
   "pygments_lexer": "ipython3",
   "version": "3.6.1"
  }
 },
 "nbformat": 4,
 "nbformat_minor": 1
}
