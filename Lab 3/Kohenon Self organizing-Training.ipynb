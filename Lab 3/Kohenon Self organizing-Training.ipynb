{
 "cells": [
  {
   "cell_type": "code",
   "execution_count": 1,
   "metadata": {
    "collapsed": true
   },
   "outputs": [],
   "source": [
    "import numpy as np"
   ]
  },
  {
   "cell_type": "code",
   "execution_count": null,
   "metadata": {},
   "outputs": [],
   "source": [
    "data=[]\n",
    "res=0\n",
    "for i in range(0,50):\n",
    " \n",
    "  res=i\n",
    "     \n",
    "  #print(\"\")\n",
    "  re=np.binary_repr(res, width=10)\n",
    "  temp=[]\n",
    "  for k in re:\n",
    "      temp.append(int(k))\n",
    "      \n",
    "  data.append(temp)\n",
    "\n",
    "data=np.reshape(data,(50,10))\n",
    "print(data)"
   ]
  },
  {
   "cell_type": "code",
   "execution_count": null,
   "metadata": {},
   "outputs": [],
   "source": [
    "X=data\n",
    "print(X)"
   ]
  },
  {
   "cell_type": "code",
   "execution_count": null,
   "metadata": {},
   "outputs": [],
   "source": [
    "y=[]\n",
    "for i in range(0,8):\n",
    "    y.append(1)\n",
    "    #print(i)\n",
    "for i in range(8,16):\n",
    "    y.append(2)\n",
    "for i in  range(16,24):\n",
    "    y.append(3)\n",
    "for i in range(24,32):\n",
    "    y.append(5)\n",
    "for i in range(32,50):\n",
    "    y.append(4)\n",
    "y=np.array(y)\n",
    "y=y.reshape(50,1)\n",
    "print(y)"
   ]
  },
  {
   "cell_type": "code",
   "execution_count": 12,
   "metadata": {},
   "outputs": [
    {
     "name": "stdout",
     "output_type": "stream",
     "text": [
      "[[ 0.66315975  0.99516238  0.88824545  0.93582276  0.67794595]\n",
      " [ 0.41702515  0.30295343  0.2925622   0.87029285  0.28461974]\n",
      " [ 0.62258151  0.95889008  0.3953286   0.23857381  0.93692012]\n",
      " [ 0.42415189  0.592749    0.83028495  0.66771101  0.80193451]\n",
      " [ 0.44033361  0.65828662  0.51972942  0.79038667  0.19605325]\n",
      " [ 0.39070722  0.35783064  0.39657239  0.28051271  0.61308512]\n",
      " [ 0.72421657  0.76820599  0.46855211  0.58134371  0.21065411]\n",
      " [ 0.22898098  0.6400071   0.11120108  0.46956285  0.36870611]\n",
      " [ 0.62718309  0.88558151  0.97930642  0.84952515  0.93984287]\n",
      " [ 0.09377905  0.61484148  0.77507     0.01597251  0.81249764]]\n"
     ]
    }
   ],
   "source": [
    "w=np.random.random((len(X[0]),5))\n",
    "#w=[]\n",
    "#w.append([0.2,0.8])\n",
    "#w.append([0.6,0.4])\n",
    "#w.append([0.5,0.7])\n",
    "#w.append([0.9,0.3])\n",
    "#w=np.array(w)\n",
    "print(w)"
   ]
  },
  {
   "cell_type": "code",
   "execution_count": null,
   "metadata": {},
   "outputs": [],
   "source": [
    "print(w[:,0])\n",
    "print(X[0])\n",
    "alpha=0.6\n",
    "radius=10.0"
   ]
  },
  {
   "cell_type": "code",
   "execution_count": null,
   "metadata": {},
   "outputs": [],
   "source": [
    "epoch=10000\n",
    "distance=[]\n",
    "\n",
    "\n",
    "def dist(x):\n",
    "    distance2=[]\n",
    "    for l in range(0,5):\n",
    "        s=0\n",
    "        W=w[:,l]\n",
    "        for k in range(0,10):\n",
    "            #print(x[k])\n",
    "            #print(W[k])\n",
    "            d=np.power((x[k]-W[k]),2)\n",
    "            #print(d)\n",
    "            s=s+d\n",
    "        #print(s)\n",
    "        distance.append(s)\n",
    "        distance2.append(s)\n",
    "        \n",
    "    return distance2\n",
    "\n",
    "\n",
    "for i in range(0,epoch):\n",
    "    print(\"Learning Rate=\",alpha)\n",
    "    for j in range(0,50):\n",
    "        x=X[j]\n",
    "        element=(dist(x))\n",
    "        m=99999999999\n",
    "        print(element)\n",
    "        for j in range(0,5):\n",
    "            if element[j]<m:\n",
    "                m=element[j]\n",
    "                key=j\n",
    "        uw=w[:,key]\n",
    "        for p in range(0,len(uw)):\n",
    "            w[p][key]=w[p][key]+alpha*(x[p]-w[p][key])\n",
    "\n",
    "\n",
    "        #print(w)\n",
    "        \n",
    "    alpha=alpha/2\n",
    "    radius=radius/2\n",
    "    \n",
    "            \n",
    "    \n",
    "\n",
    "#print(distance)\n",
    "print(w)\n",
    "\n",
    "        "
   ]
  },
  {
   "cell_type": "code",
   "execution_count": null,
   "metadata": {},
   "outputs": [],
   "source": [
    "epoch=10000\n",
    "distance=[]\n",
    "\n",
    "\n",
    "def dist(x):\n",
    "    distance2=[]\n",
    "    for l in range(0,5):\n",
    "        s=0\n",
    "        W=w[:,l]\n",
    "        for k in range(0,10):\n",
    "            #print(x[k])\n",
    "            #print(W[k])\n",
    "            d=np.power((x[k]-W[k]),2)\n",
    "            #print(d)\n",
    "            s=s+d\n",
    "        #print(s)\n",
    "        distance.append(s)\n",
    "        distance2.append(s)\n",
    "        \n",
    "    return distance2\n",
    "\n",
    "\n",
    "for i in range(0,epoch):\n",
    "    print(\"Learning Rate=\",alpha)\n",
    "    for j in range(0,50):\n",
    "        x=X[j]\n",
    "        element=(dist(x))\n",
    "        m=99999999999\n",
    "        print(element)\n",
    "        for j in range(0,5):\n",
    "            if element[j]<m:\n",
    "                m=element[j]\n",
    "                key=j\n",
    "        uw=w[:,key]\n",
    "        for p in range(0,len(uw)):\n",
    "            w[p][key]=w[p][key]+alpha*(x[p]-w[p][key])\n",
    "\n",
    "\n",
    "        #print(w)\n",
    "        \n",
    "    alpha=alpha/2\n",
    "    radius=radius/2\n",
    "    \n",
    "            \n",
    "    \n",
    "\n",
    "#print(distance)\n",
    "print(w)\n",
    "\n",
    "        "
   ]
  },
  {
   "cell_type": "code",
   "execution_count": 17,
   "metadata": {},
   "outputs": [
    {
     "name": "stdout",
     "output_type": "stream",
     "text": [
      "[3, 3, 1, 1, 1, 1, 1, 1, 1, 1, 1, 1, 1, 1, 1, 1, 3, 3, 3, 3, 3, 3, 3, 3, 5, 5, 5, 5, 5, 5, 5, 5, 3, 3, 3, 3, 3, 3, 4, 4, 4, 4, 4, 4, 4, 4, 4, 4, 3, 3]\n"
     ]
    }
   ],
   "source": [
    "w=ww\n",
    "cluster=[]\n",
    "for j in range(0,50):\n",
    "        x=X[j]\n",
    "        m=99999999999\n",
    "        element=dist(x)\n",
    "        #print(element)\n",
    "        for k in range(0,5):\n",
    "            if element[k]<m:\n",
    "                m=element[k]\n",
    "                key=k\n",
    "        cluster.append(key+1)\n",
    "print(cluster)\n",
    "        \n",
    "        "
   ]
  },
  {
   "cell_type": "code",
   "execution_count": null,
   "metadata": {},
   "outputs": [],
   "source": [
    "cluster=np.array(cluster)\n",
    "cluster=cluster.reshape(50,1)\n",
    "output=np.concatenate((X, cluster), axis=1)\n",
    "#print(output)"
   ]
  },
  {
   "cell_type": "code",
   "execution_count": 31,
   "metadata": {},
   "outputs": [
    {
     "name": "stdout",
     "output_type": "stream",
     "text": [
      "Training accuracy= 64.0 %\n"
     ]
    }
   ],
   "source": [
    "cnt=0\n",
    "for i in range(0,50):\n",
    "        if(cluster[i]==y[i]):\n",
    "            cnt=cnt+1\n",
    "\n",
    "accuracy=(cnt/50)*100\n",
    "print(\"Training accuracy=\", accuracy,'%')"
   ]
  },
  {
   "cell_type": "code",
   "execution_count": null,
   "metadata": {
    "collapsed": true
   },
   "outputs": [],
   "source": []
  }
 ],
 "metadata": {
  "kernelspec": {
   "display_name": "Python 3",
   "language": "python",
   "name": "python3"
  },
  "language_info": {
   "codemirror_mode": {
    "name": "ipython",
    "version": 3
   },
   "file_extension": ".py",
   "mimetype": "text/x-python",
   "name": "python",
   "nbconvert_exporter": "python",
   "pygments_lexer": "ipython3",
   "version": "3.6.1"
  }
 },
 "nbformat": 4,
 "nbformat_minor": 2
}
