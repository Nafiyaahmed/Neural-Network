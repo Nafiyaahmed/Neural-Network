{
 "cells": [
  {
   "cell_type": "code",
   "execution_count": 1,
   "metadata": {
    "collapsed": true
   },
   "outputs": [],
   "source": [
    "import numpy as np"
   ]
  },
  {
   "cell_type": "code",
   "execution_count": null,
   "metadata": {},
   "outputs": [],
   "source": [
    "data=[]\n",
    "res=0\n",
    "for i in range(0,50):\n",
    " \n",
    "  res=i\n",
    "     \n",
    "  #print(\"\")\n",
    "  re=np.binary_repr(res, width=10)\n",
    "  temp=[]\n",
    "  for k in re:\n",
    "      temp.append(int(k))\n",
    "      \n",
    "  data.append(temp)\n",
    "\n",
    "data=np.reshape(data,(50,10))\n",
    "#print(data)"
   ]
  },
  {
   "cell_type": "code",
   "execution_count": null,
   "metadata": {},
   "outputs": [],
   "source": [
    "X=data[0:30]\n",
    "#print(X)"
   ]
  },
  {
   "cell_type": "code",
   "execution_count": null,
   "metadata": {},
   "outputs": [],
   "source": [
    "y=[]\n",
    "for i in range(0,8):\n",
    "    y.append(3)\n",
    "    #print(i)\n",
    "for i in range(8,16):\n",
    "    y.append(5)\n",
    "for i in  range(16,24):\n",
    "    y.append(1)\n",
    "for i in range(24,32):\n",
    "    y.append(4)\n",
    "for i in range(32,50):\n",
    "    y.append(2)\n",
    "y=np.array(y)\n",
    "y=y.reshape(50,1)\n",
    "#print(y)"
   ]
  },
  {
   "cell_type": "code",
   "execution_count": 5,
   "metadata": {},
   "outputs": [
    {
     "name": "stdout",
     "output_type": "stream",
     "text": [
      "[[ 0.04712075  0.31685081  0.7761121   0.66474738  0.84633299]\n",
      " [ 0.96894774  0.99236894  0.5137003   0.2293932   0.69601023]\n",
      " [ 0.03346317  0.30434964  0.44214105  0.77382455  0.86021688]\n",
      " [ 0.89515097  0.38925913  0.80338236  0.63658832  0.65623198]\n",
      " [ 0.94142971  0.16511856  0.56081129  0.36821766  0.37659815]\n",
      " [ 0.8066063   0.51215952  0.3598158   0.93598298  0.70325871]\n",
      " [ 0.16487203  0.96371276  0.32659075  0.9906597   0.45456785]\n",
      " [ 0.80017157  0.84575974  0.23982207  0.11666037  0.50248769]\n",
      " [ 0.12110832  0.63872095  0.29314095  0.10055082  0.2728437 ]\n",
      " [ 0.86330746  0.66348938  0.79003666  0.11910997  0.06305289]]\n"
     ]
    }
   ],
   "source": [
    "w=np.random.random((len(X[0]),5))\n",
    "#w=[]\n",
    "#w.append([0.2,0.8])\n",
    "#w.append([0.6,0.4])\n",
    "#w.append([0.5,0.7])\n",
    "#w.append([0.9,0.3])\n",
    "#w=np.array(w)\n",
    "print(w)"
   ]
  },
  {
   "cell_type": "code",
   "execution_count": null,
   "metadata": {},
   "outputs": [],
   "source": [
    "print(w[:,0])\n",
    "print(X[0])\n",
    "alpha=0.6\n",
    "radius=10.0"
   ]
  },
  {
   "cell_type": "code",
   "execution_count": null,
   "metadata": {},
   "outputs": [],
   "source": [
    "epoch=10000\n",
    "distance=[]\n",
    "\n",
    "\n",
    "def dist(x):\n",
    "    distance2=[]\n",
    "    for l in range(0,5):\n",
    "        s=0\n",
    "        W=w[:,l]\n",
    "        for k in range(0,10):\n",
    "            #print(x[k])\n",
    "            #print(W[k])\n",
    "            d=np.power((x[k]-W[k]),2)\n",
    "            #print(d)\n",
    "            s=s+d\n",
    "        #print(s)\n",
    "        distance.append(s)\n",
    "        distance2.append(s)\n",
    "        \n",
    "    return distance2\n",
    "\n",
    "\n",
    "for i in range(0,epoch):\n",
    "    print(\"Learning Rate=\",alpha)\n",
    "    for j in range(0,30):\n",
    "        x=X[j]\n",
    "        element=(dist(x))\n",
    "        m=99999999999\n",
    "        print(element)\n",
    "        for j in range(0,5):\n",
    "            if element[j]<m:\n",
    "                m=element[j]\n",
    "                key=j\n",
    "        uw=w[:,key]\n",
    "        for p in range(0,len(uw)):\n",
    "            w[p][key]=w[p][key]+alpha*(x[p]-w[p][key])\n",
    "\n",
    "\n",
    "        #print(w)\n",
    "        \n",
    "    alpha=alpha/2\n",
    "    \n",
    "            \n",
    "    \n",
    "\n",
    "#print(distance)\n",
    "#print(w)\n",
    "\n",
    "        "
   ]
  },
  {
   "cell_type": "code",
   "execution_count": null,
   "metadata": {},
   "outputs": [],
   "source": [
    "ww=w\n",
    "for h in range(0,10):\n",
    "    for q in range(0,5):\n",
    "        #print(ww[h][q])\n",
    "        if(ww[h][q]>0.0000009 and ww[h][q]<0.000001):\n",
    "            print(0.1)\n",
    "            ww[h][q]=0.1\n",
    "        elif ww[h][q]>0.000001 and ww[h][q]<=0.0001:\n",
    "            ww[h][q]=0.2\n",
    "            print(0.2)\n",
    "        elif ww[h][q]>0.0001 and ww[h][q]<=0.001:\n",
    "            ww[h][q]=0.4\n",
    "            print(0.4)\n",
    "        elif ww[h][q]>0.001 and ww[h][q]<=0.01:\n",
    "            ww[h][q]=0.5\n",
    "            print(0.5)\n",
    "        elif ww[h][q]>0.01 and ww[h][q]<=0.09:\n",
    "            ww[h][q]=0.6\n",
    "            print(0.6)\n",
    "        elif ww[h][q]>=0.1 and ww[h][q]<=0.3:\n",
    "            ww[h][q]=0.7\n",
    "            print(0.7)\n",
    "        elif ww[h][q]>0.3 and ww[h][q]<=0.5:\n",
    "            ww[h][q]=0.8\n",
    "            print(0.8)\n",
    "        elif ww[h][q]>0.5 and ww[h][q]<=0.8:\n",
    "            ww[h][q]=0.9\n",
    "            print(0.9)\n",
    "        elif ww[h][q]>0.8 and ww[h][q]<=1:\n",
    "            ww[h][q]=1\n",
    "            print(1)\n",
    "        else:\n",
    "            ww[h][q]=0\n",
    "            print(0)\n",
    "  \n",
    "\n",
    "#print(ww)"
   ]
  },
  {
   "cell_type": "code",
   "execution_count": 10,
   "metadata": {},
   "outputs": [
    {
     "name": "stdout",
     "output_type": "stream",
     "text": [
      "[3, 3, 3, 3, 3, 3, 3, 3, 4, 4, 4, 4, 4, 4, 4, 4, 5, 5, 5, 5, 5, 5, 5, 5, 2, 2, 2, 2, 2, 2]\n"
     ]
    }
   ],
   "source": [
    "w=ww\n",
    "cluster=[]\n",
    "for j in range(0,30):\n",
    "        x=X[j]\n",
    "        m=99999999999\n",
    "        element=dist(x)\n",
    "        #print(element)\n",
    "        for k in range(0,5):\n",
    "            if element[k]<m:\n",
    "                m=element[k]\n",
    "                key=k\n",
    "        cluster.append(key+1)\n",
    "print(cluster)\n",
    "        \n",
    "        "
   ]
  },
  {
   "cell_type": "code",
   "execution_count": null,
   "metadata": {},
   "outputs": [],
   "source": [
    "cluster=np.array(cluster)\n",
    "cluster=cluster.reshape(30,1)\n",
    "output=np.concatenate((X, cluster), axis=1)\n",
    "#print(output)"
   ]
  },
  {
   "cell_type": "code",
   "execution_count": 21,
   "metadata": {},
   "outputs": [
    {
     "name": "stdout",
     "output_type": "stream",
     "text": [
      "Testing accuracy= 26.666666666666668 %\n"
     ]
    }
   ],
   "source": [
    "cnt=0\n",
    "for i in range(0,30):\n",
    "        if(cluster[i]==y[i]):\n",
    "            cnt=cnt+1\n",
    "\n",
    "accuracy=(cnt/30)*100\n",
    "print(\"Testing accuracy=\", accuracy,'%')"
   ]
  },
  {
   "cell_type": "code",
   "execution_count": null,
   "metadata": {
    "collapsed": true
   },
   "outputs": [],
   "source": []
  }
 ],
 "metadata": {
  "kernelspec": {
   "display_name": "Python 3",
   "language": "python",
   "name": "python3"
  },
  "language_info": {
   "codemirror_mode": {
    "name": "ipython",
    "version": 3
   },
   "file_extension": ".py",
   "mimetype": "text/x-python",
   "name": "python",
   "nbconvert_exporter": "python",
   "pygments_lexer": "ipython3",
   "version": "3.6.1"
  }
 },
 "nbformat": 4,
 "nbformat_minor": 2
}
