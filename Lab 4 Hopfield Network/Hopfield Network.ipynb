{
 "cells": [
  {
   "cell_type": "code",
   "execution_count": 1,
   "metadata": {
    "collapsed": true
   },
   "outputs": [],
   "source": [
    "import matplotlib.pyplot as plt\n",
    "import numpy as np"
   ]
  },
  {
   "cell_type": "code",
   "execution_count": 2,
   "metadata": {
    "collapsed": true
   },
   "outputs": [],
   "source": [
    "np.random.seed(1000)\n",
    "\n",
    "nb_patterns = 4\n",
    "pattern_width = 4\n",
    "pattern_height = 4\n",
    "max_iterations = 10"
   ]
  },
  {
   "cell_type": "code",
   "execution_count": 3,
   "metadata": {},
   "outputs": [
    {
     "name": "stdout",
     "output_type": "stream",
     "text": [
      "[[ 0.  0.  0.  0.  0.  0.  0.  0.  0.  0.  0.  0.  0.  0.  0.  0.]\n",
      " [ 0.  0.  0.  0.  0.  0.  0.  0.  0.  0.  0.  0.  0.  0.  0.  0.]\n",
      " [ 0.  0.  0.  0.  0.  0.  0.  0.  0.  0.  0.  0.  0.  0.  0.  0.]\n",
      " [ 0.  0.  0.  0.  0.  0.  0.  0.  0.  0.  0.  0.  0.  0.  0.  0.]]\n"
     ]
    }
   ],
   "source": [
    "X = np.zeros((nb_patterns, pattern_width * pattern_height))\n",
    "print(X)"
   ]
  },
  {
   "cell_type": "code",
   "execution_count": 11,
   "metadata": {},
   "outputs": [
    {
     "name": "stdout",
     "output_type": "stream",
     "text": [
      "[-1.  1.  1. -1. -1.  1.  1. -1. -1.  1.  1. -1. -1.  1.  1. -1.]\n"
     ]
    }
   ],
   "source": [
    "X[0] = [-1, 1, 1, -1, -1, 1, 1, -1, -1, 1, 1, -1, -1, 1, 1, -1]\n",
    "X[1] = [-1, -1, -1, -1, 1, 1, 1, 1, 1, 1, 1, 1, -1, -1, -1, -1]\n",
    "X[2] = [-1, -1, 1, 1, -1, -1, 1, 1, 1, 1, -1, -1, 1, 1, -1, -1]\n",
    "X[3] = [1, 1, -1, -1, 1, 1, -1, -1, -1, -1, 1, 1, -1, -1, 1, 1]\n",
    "print(X[0])"
   ]
  },
  {
   "cell_type": "code",
   "execution_count": 5,
   "metadata": {
    "collapsed": true
   },
   "outputs": [],
   "source": [
    "fig, ax = plt.subplots(1, nb_patterns, figsize=(10, 5))"
   ]
  },
  {
   "cell_type": "code",
   "execution_count": 6,
   "metadata": {},
   "outputs": [
    {
     "data": {
      "image/png": "[encoded data removed]",
      "text/plain": [
       "<matplotlib.figure.Figure at 0x378775d320>"
      ]
     },
     "metadata": {},
     "output_type": "display_data"
    }
   ],
   "source": [
    "for i in range(nb_patterns):\n",
    "    ax[i].matshow(X[i].reshape((pattern_height, pattern_width)), cmap='gray')\n",
    "    ax[i].set_xticks([])\n",
    "    ax[i].set_yticks([])\n",
    "    \n",
    "plt.show()"
   ]
  },
  {
   "cell_type": "code",
   "execution_count": 15,
   "metadata": {},
   "outputs": [
    {
     "name": "stdout",
     "output_type": "stream",
     "text": [
      "[[ 0.  0.  0.  0.  0.  0.  0.  0.  0.  0.  0.  0.  0.  0.  0.  0.]\n",
      " [ 0.  0.  0.  0.  0.  0.  0.  0.  0.  0.  0.  0.  0.  0.  0.  0.]\n",
      " [ 0.  0.  0.  0.  0.  0.  0.  0.  0.  0.  0.  0.  0.  0.  0.  0.]\n",
      " [ 0.  0.  0.  0.  0.  0.  0.  0.  0.  0.  0.  0.  0.  0.  0.  0.]\n",
      " [ 0.  0.  0.  0.  0.  0.  0.  0.  0.  0.  0.  0.  0.  0.  0.  0.]\n",
      " [ 0.  0.  0.  0.  0.  0.  0.  0.  0.  0.  0.  0.  0.  0.  0.  0.]\n",
      " [ 0.  0.  0.  0.  0.  0.  0.  0.  0.  0.  0.  0.  0.  0.  0.  0.]\n",
      " [ 0.  0.  0.  0.  0.  0.  0.  0.  0.  0.  0.  0.  0.  0.  0.  0.]\n",
      " [ 0.  0.  0.  0.  0.  0.  0.  0.  0.  0.  0.  0.  0.  0.  0.  0.]\n",
      " [ 0.  0.  0.  0.  0.  0.  0.  0.  0.  0.  0.  0.  0.  0.  0.  0.]\n",
      " [ 0.  0.  0.  0.  0.  0.  0.  0.  0.  0.  0.  0.  0.  0.  0.  0.]\n",
      " [ 0.  0.  0.  0.  0.  0.  0.  0.  0.  0.  0.  0.  0.  0.  0.  0.]\n",
      " [ 0.  0.  0.  0.  0.  0.  0.  0.  0.  0.  0.  0.  0.  0.  0.  0.]\n",
      " [ 0.  0.  0.  0.  0.  0.  0.  0.  0.  0.  0.  0.  0.  0.  0.  0.]\n",
      " [ 0.  0.  0.  0.  0.  0.  0.  0.  0.  0.  0.  0.  0.  0.  0.  0.]\n",
      " [ 0.  0.  0.  0.  0.  0.  0.  0.  0.  0.  0.  0.  0.  0.  0.  0.]]\n",
      "4\n"
     ]
    }
   ],
   "source": [
    "W = np.zeros((pattern_width * pattern_height, pattern_width * pattern_height))\n",
    "print(W)\n",
    "print(X.shape[0])"
   ]
  },
  {
   "cell_type": "code",
   "execution_count": 16,
   "metadata": {},
   "outputs": [
    {
     "name": "stdout",
     "output_type": "stream",
     "text": [
      "[[ 0.   0.5 -0.5  0.   0.5  0.  -1.  -0.5 -0.5 -1.   0.   0.5  0.  -0.5\n",
      "   0.5  1. ]\n",
      " [ 0.5  0.   0.  -0.5  0.   0.5 -0.5 -1.  -1.  -0.5  0.5  0.  -0.5  0.   1.\n",
      "   0.5]\n",
      " [-0.5  0.   0.   0.5 -1.  -0.5  0.5  0.   0.   0.5 -0.5 -1.   0.5  1.   0.\n",
      "  -0.5]\n",
      " [ 0.  -0.5  0.5  0.  -0.5 -1.   0.   0.5  0.5  0.  -1.  -0.5  1.   0.5\n",
      "  -0.5  0. ]\n",
      " [ 0.5  0.  -1.  -0.5  0.   0.5 -0.5  0.   0.  -0.5  0.5  1.  -0.5 -1.   0.\n",
      "   0.5]\n",
      " [ 0.   0.5 -0.5 -1.   0.5  0.   0.  -0.5 -0.5  0.   1.   0.5 -1.  -0.5\n",
      "   0.5  0. ]\n",
      " [-1.  -0.5  0.5  0.  -0.5  0.   0.   0.5  0.5  1.   0.  -0.5  0.   0.5\n",
      "  -0.5 -1. ]\n",
      " [-0.5 -1.   0.   0.5  0.  -0.5  0.5  0.   1.   0.5 -0.5  0.   0.5  0.  -1.\n",
      "  -0.5]\n",
      " [-0.5 -1.   0.   0.5  0.  -0.5  0.5  1.   0.   0.5 -0.5  0.   0.5  0.  -1.\n",
      "  -0.5]\n",
      " [-1.  -0.5  0.5  0.  -0.5  0.   1.   0.5  0.5  0.   0.  -0.5  0.   0.5\n",
      "  -0.5 -1. ]\n",
      " [ 0.   0.5 -0.5 -1.   0.5  1.   0.  -0.5 -0.5  0.   0.   0.5 -1.  -0.5\n",
      "   0.5  0. ]\n",
      " [ 0.5  0.  -1.  -0.5  1.   0.5 -0.5  0.   0.  -0.5  0.5  0.  -0.5 -1.   0.\n",
      "   0.5]\n",
      " [ 0.  -0.5  0.5  1.  -0.5 -1.   0.   0.5  0.5  0.  -1.  -0.5  0.   0.5\n",
      "  -0.5  0. ]\n",
      " [-0.5  0.   1.   0.5 -1.  -0.5  0.5  0.   0.   0.5 -0.5 -1.   0.5  0.   0.\n",
      "  -0.5]\n",
      " [ 0.5  1.   0.  -0.5  0.   0.5 -0.5 -1.  -1.  -0.5  0.5  0.  -0.5  0.   0.\n",
      "   0.5]\n",
      " [ 1.   0.5 -0.5  0.   0.5  0.  -1.  -0.5 -0.5 -1.   0.   0.5  0.  -0.5\n",
      "   0.5  0. ]]\n"
     ]
    }
   ],
   "source": [
    "for i in range(pattern_width * pattern_height):\n",
    "    for j in range(pattern_width * pattern_height):\n",
    "        w=0.0\n",
    "        if i!=j and W[i,j]==0:\n",
    "            for l in range(0,nb_patterns):\n",
    "                w=w+X[l,i]*X[l,j]\n",
    "            W[i,j]=w/X.shape[0]\n",
    "            W[j,i]=W[i,j]\n",
    "print(W)\n",
    "            "
   ]
  },
  {
   "cell_type": "code",
   "execution_count": 27,
   "metadata": {
    "collapsed": true
   },
   "outputs": [],
   "source": [
    "# Create a corrupted test pattern\n",
    "x_test = np.array([1, -1, 1, 1, -1, -1, 1, 1, -1, 1, -1, -1, 1, 1, 1, 1])\n",
    "x_test2=np.array([-1, 1, 1, -1, -1, -1, -1, -1, -1, 1, 1, -1, -1, 1, 1, -1])"
   ]
  },
  {
   "cell_type": "code",
   "execution_count": 20,
   "metadata": {},
   "outputs": [
    {
     "name": "stdout",
     "output_type": "stream",
     "text": [
      "-3.0\n",
      "-1\n",
      "[-1 -1  1  1 -1 -1  1  1  1  1 -1 -1  1  1 -1 -1]\n"
     ]
    }
   ],
   "source": [
    "# Recover the original patterns\n",
    "A = x_test.copy()\n",
    "print(np.dot(W[0],A))\n",
    "for _ in range(max_iterations):\n",
    "    for i in range(pattern_width * pattern_height):\n",
    "        if np.dot(W[i], A) > 0:\n",
    "            A[i] = 1.0 \n",
    "        else:\n",
    "            A[i]= -1.0\n",
    "print(A[0])\n",
    "print(A)"
   ]
  },
  {
   "cell_type": "code",
   "execution_count": 19,
   "metadata": {},
   "outputs": [
    {
     "data": {
      "image/png": "[encoded data removed]",
      "text/plain": [
       "<matplotlib.figure.Figure at 0x3789bd29b0>"
      ]
     },
     "metadata": {},
     "output_type": "display_data"
    }
   ],
   "source": [
    "fig, ax = plt.subplots(1, 2, figsize=(10, 5))\n",
    "\n",
    "ax[0].matshow(x_test.reshape(pattern_height, pattern_width), cmap='gray')\n",
    "ax[0].set_title('Corrupted pattern')\n",
    "ax[0].set_xticks([])\n",
    "ax[0].set_yticks([])\n",
    "\n",
    "ax[1].matshow(A.reshape(pattern_height, pattern_width), cmap='gray')\n",
    "ax[1].set_title('Recovered pattern')\n",
    "ax[1].set_xticks([])\n",
    "ax[1].set_yticks([])\n",
    "\n",
    "plt.show()"
   ]
  },
  {
   "cell_type": "code",
   "execution_count": 28,
   "metadata": {},
   "outputs": [
    {
     "name": "stdout",
     "output_type": "stream",
     "text": [
      "-1.0\n",
      "-1\n",
      "[-1  1  1 -1 -1  1  1 -1 -1  1  1 -1 -1  1  1 -1]\n"
     ]
    }
   ],
   "source": [
    "B = x_test2.copy()\n",
    "print(np.dot(W[0],B))\n",
    "for _ in range(max_iterations):\n",
    "    for i in range(pattern_width * pattern_height):\n",
    "        if np.dot(W[i], B) > 0:\n",
    "            B[i] = 1.0 \n",
    "        else:\n",
    "            B[i]= -1.0\n",
    "print(B[0])\n",
    "print(B)"
   ]
  },
  {
   "cell_type": "code",
   "execution_count": 29,
   "metadata": {},
   "outputs": [
    {
     "data": {
      "image/png": "[encoded data removed]",
      "text/plain": [
       "<matplotlib.figure.Figure at 0x3789cec2b0>"
      ]
     },
     "metadata": {},
     "output_type": "display_data"
    }
   ],
   "source": [
    "fig, ax = plt.subplots(1, 2, figsize=(10, 5))\n",
    "\n",
    "ax[0].matshow(x_test2.reshape(pattern_height, pattern_width), cmap='gray')\n",
    "ax[0].set_title('Corrupted pattern')\n",
    "ax[0].set_xticks([])\n",
    "ax[0].set_yticks([])\n",
    "\n",
    "ax[1].matshow(B.reshape(pattern_height, pattern_width), cmap='gray')\n",
    "ax[1].set_title('Recovered pattern')\n",
    "ax[1].set_xticks([])\n",
    "ax[1].set_yticks([])\n",
    "\n",
    "plt.show()"
   ]
  },
  {
   "cell_type": "code",
   "execution_count": null,
   "metadata": {
    "collapsed": true
   },
   "outputs": [],
   "source": []
  }
 ],
 "metadata": {
  "kernelspec": {
   "display_name": "Python 3",
   "language": "python",
   "name": "python3"
  },
  "language_info": {
   "codemirror_mode": {
    "name": "ipython",
    "version": 3
   },
   "file_extension": ".py",
   "mimetype": "text/x-python",
   "name": "python",
   "nbconvert_exporter": "python",
   "pygments_lexer": "ipython3",
   "version": "3.6.1"
  }
 },
 "nbformat": 4,
 "nbformat_minor": 2
}
