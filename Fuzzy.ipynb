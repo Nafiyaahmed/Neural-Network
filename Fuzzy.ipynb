{
  "nbformat": 4,
  "nbformat_minor": 0,
  "metadata": {
    "colab": {
      "name": "Fuzzy.ipynb",
      "version": "0.3.2",
      "provenance": []
    },
    "kernelspec": {
      "name": "python3",
      "display_name": "Python 3"
    },
    "accelerator": "GPU"
  },
  "cells": [
    {
      "cell_type": "code",
      "metadata": {
        "id": "_CGnQZNVP8Ef",
        "colab_type": "code",
        "colab": {
          "base_uri": "https://localhost:8080/",
          "height": 276
        },
        "outputId": "7d60706e-8491-4ed3-f543-9dd4110c832a"
      },
      "source": [
        " !  pip install scikit-fuzzy"
      ],
      "execution_count": 4,
      "outputs": [
        {
          "output_type": "stream",
          "text": [
            "Collecting scikit-fuzzy\n",
            "\u001b[?25l  Downloading https://files.pythonhosted.org/packages/e5/30/aaf5bfdcc6b7362d753ae811ca131ecbc434c4ba665a581a7ad7b2288d45/scikit-fuzzy-0.4.1.tar.gz (993kB)\n",
            "\r\u001b[K     |▎                               | 10kB 17.3MB/s eta 0:00:01\r\u001b[K     |▋                               | 20kB 4.6MB/s eta 0:00:01\r\u001b[K     |█                               | 30kB 6.6MB/s eta 0:00:01\r\u001b[K     |█▎                              | 40kB 4.2MB/s eta 0:00:01\r\u001b[K     |█▋                              | 51kB 5.2MB/s eta 0:00:01\r\u001b[K     |██                              | 61kB 6.1MB/s eta 0:00:01\r\u001b[K     |██▎                             | 71kB 7.0MB/s eta 0:00:01\r\u001b[K     |██▋                             | 81kB 7.8MB/s eta 0:00:01\r\u001b[K     |███                             | 92kB 8.6MB/s eta 0:00:01\r\u001b[K     |███▎                            | 102kB 7.0MB/s eta 0:00:01\r\u001b[K     |███▋                            | 112kB 7.0MB/s eta 0:00:01\r\u001b[K     |████                            | 122kB 7.0MB/s eta 0:00:01\r\u001b[K     |████▎                           | 133kB 7.0MB/s eta 0:00:01\r\u001b[K     |████▋                           | 143kB 7.0MB/s eta 0:00:01\r\u001b[K     |█████                           | 153kB 7.0MB/s eta 0:00:01\r\u001b[K     |█████▎                          | 163kB 7.0MB/s eta 0:00:01\r\u001b[K     |█████▋                          | 174kB 7.0MB/s eta 0:00:01\r\u001b[K     |██████                          | 184kB 7.0MB/s eta 0:00:01\r\u001b[K     |██████▎                         | 194kB 7.0MB/s eta 0:00:01\r\u001b[K     |██████▋                         | 204kB 7.0MB/s eta 0:00:01\r\u001b[K     |███████                         | 215kB 7.0MB/s eta 0:00:01\r\u001b[K     |███████▎                        | 225kB 7.0MB/s eta 0:00:01\r\u001b[K     |███████▋                        | 235kB 7.0MB/s eta 0:00:01\r\u001b[K     |████████                        | 245kB 7.0MB/s eta 0:00:01\r\u001b[K     |████████▎                       | 256kB 7.0MB/s eta 0:00:01\r\u001b[K     |████████▋                       | 266kB 7.0MB/s eta 0:00:01\r\u001b[K     |█████████                       | 276kB 7.0MB/s eta 0:00:01\r\u001b[K     |█████████▎                      | 286kB 7.0MB/s eta 0:00:01\r\u001b[K     |█████████▋                      | 296kB 7.0MB/s eta 0:00:01\r\u001b[K     |██████████                      | 307kB 7.0MB/s eta 0:00:01\r\u001b[K     |██████████▏                     | 317kB 7.0MB/s eta 0:00:01\r\u001b[K     |██████████▌                     | 327kB 7.0MB/s eta 0:00:01\r\u001b[K     |██████████▉                     | 337kB 7.0MB/s eta 0:00:01\r\u001b[K     |███████████▏                    | 348kB 7.0MB/s eta 0:00:01\r\u001b[K     |███████████▌                    | 358kB 7.0MB/s eta 0:00:01\r\u001b[K     |███████████▉                    | 368kB 7.0MB/s eta 0:00:01\r\u001b[K     |████████████▏                   | 378kB 7.0MB/s eta 0:00:01\r\u001b[K     |████████████▌                   | 389kB 7.0MB/s eta 0:00:01\r\u001b[K     |████████████▉                   | 399kB 7.0MB/s eta 0:00:01\r\u001b[K     |█████████████▏                  | 409kB 7.0MB/s eta 0:00:01\r\u001b[K     |█████████████▌                  | 419kB 7.0MB/s eta 0:00:01\r\u001b[K     |█████████████▉                  | 430kB 7.0MB/s eta 0:00:01\r\u001b[K     |██████████████▏                 | 440kB 7.0MB/s eta 0:00:01\r\u001b[K     |██████████████▌                 | 450kB 7.0MB/s eta 0:00:01\r\u001b[K     |██████████████▉                 | 460kB 7.0MB/s eta 0:00:01\r\u001b[K     |███████████████▏                | 471kB 7.0MB/s eta 0:00:01\r\u001b[K     |███████████████▌                | 481kB 7.0MB/s eta 0:00:01\r\u001b[K     |███████████████▉                | 491kB 7.0MB/s eta 0:00:01\r\u001b[K     |████████████████▏               | 501kB 7.0MB/s eta 0:00:01\r\u001b[K     |████████████████▌               | 512kB 7.0MB/s eta 0:00:01\r\u001b[K     |████████████████▉               | 522kB 7.0MB/s eta 0:00:01\r\u001b[K     |█████████████████▏              | 532kB 7.0MB/s eta 0:00:01\r\u001b[K     |█████████████████▌              | 542kB 7.0MB/s eta 0:00:01\r\u001b[K     |█████████████████▉              | 552kB 7.0MB/s eta 0:00:01\r\u001b[K     |██████████████████▏             | 563kB 7.0MB/s eta 0:00:01\r\u001b[K     |██████████████████▌             | 573kB 7.0MB/s eta 0:00:01\r\u001b[K     |██████████████████▉             | 583kB 7.0MB/s eta 0:00:01\r\u001b[K     |███████████████████▏            | 593kB 7.0MB/s eta 0:00:01\r\u001b[K     |███████████████████▌            | 604kB 7.0MB/s eta 0:00:01\r\u001b[K     |███████████████████▉            | 614kB 7.0MB/s eta 0:00:01\r\u001b[K     |████████████████████            | 624kB 7.0MB/s eta 0:00:01\r\u001b[K     |████████████████████▍           | 634kB 7.0MB/s eta 0:00:01\r\u001b[K     |████████████████████▊           | 645kB 7.0MB/s eta 0:00:01\r\u001b[K     |█████████████████████           | 655kB 7.0MB/s eta 0:00:01\r\u001b[K     |█████████████████████▍          | 665kB 7.0MB/s eta 0:00:01\r\u001b[K     |█████████████████████▊          | 675kB 7.0MB/s eta 0:00:01\r\u001b[K     |██████████████████████          | 686kB 7.0MB/s eta 0:00:01\r\u001b[K     |██████████████████████▍         | 696kB 7.0MB/s eta 0:00:01\r\u001b[K     |██████████████████████▊         | 706kB 7.0MB/s eta 0:00:01\r\u001b[K     |███████████████████████         | 716kB 7.0MB/s eta 0:00:01\r\u001b[K     |███████████████████████▍        | 727kB 7.0MB/s eta 0:00:01\r\u001b[K     |███████████████████████▊        | 737kB 7.0MB/s eta 0:00:01\r\u001b[K     |████████████████████████        | 747kB 7.0MB/s eta 0:00:01\r\u001b[K     |████████████████████████▍       | 757kB 7.0MB/s eta 0:00:01\r\u001b[K     |████████████████████████▊       | 768kB 7.0MB/s eta 0:00:01\r\u001b[K     |█████████████████████████       | 778kB 7.0MB/s eta 0:00:01\r\u001b[K     |█████████████████████████▍      | 788kB 7.0MB/s eta 0:00:01\r\u001b[K     |█████████████████████████▊      | 798kB 7.0MB/s eta 0:00:01\r\u001b[K     |██████████████████████████      | 808kB 7.0MB/s eta 0:00:01\r\u001b[K     |██████████████████████████▍     | 819kB 7.0MB/s eta 0:00:01\r\u001b[K     |██████████████████████████▊     | 829kB 7.0MB/s eta 0:00:01\r\u001b[K     |███████████████████████████     | 839kB 7.0MB/s eta 0:00:01\r\u001b[K     |███████████████████████████▍    | 849kB 7.0MB/s eta 0:00:01\r\u001b[K     |███████████████████████████▊    | 860kB 7.0MB/s eta 0:00:01\r\u001b[K     |████████████████████████████    | 870kB 7.0MB/s eta 0:00:01\r\u001b[K     |████████████████████████████▍   | 880kB 7.0MB/s eta 0:00:01\r\u001b[K     |████████████████████████████▊   | 890kB 7.0MB/s eta 0:00:01\r\u001b[K     |█████████████████████████████   | 901kB 7.0MB/s eta 0:00:01\r\u001b[K     |█████████████████████████████▍  | 911kB 7.0MB/s eta 0:00:01\r\u001b[K     |█████████████████████████████▊  | 921kB 7.0MB/s eta 0:00:01\r\u001b[K     |██████████████████████████████  | 931kB 7.0MB/s eta 0:00:01\r\u001b[K     |██████████████████████████████▎ | 942kB 7.0MB/s eta 0:00:01\r\u001b[K     |██████████████████████████████▋ | 952kB 7.0MB/s eta 0:00:01\r\u001b[K     |███████████████████████████████ | 962kB 7.0MB/s eta 0:00:01\r\u001b[K     |███████████████████████████████▎| 972kB 7.0MB/s eta 0:00:01\r\u001b[K     |███████████████████████████████▋| 983kB 7.0MB/s eta 0:00:01\r\u001b[K     |████████████████████████████████| 993kB 7.0MB/s eta 0:00:01\r\u001b[K     |████████████████████████████████| 1.0MB 7.0MB/s \n",
            "\u001b[?25hRequirement already satisfied: numpy>=1.6.0 in /usr/local/lib/python3.6/dist-packages (from scikit-fuzzy) (1.16.4)\n",
            "Requirement already satisfied: scipy>=0.9.0 in /usr/local/lib/python3.6/dist-packages (from scikit-fuzzy) (1.3.0)\n",
            "Requirement already satisfied: networkx>=1.9.0 in /usr/local/lib/python3.6/dist-packages (from scikit-fuzzy) (2.3)\n",
            "Requirement already satisfied: decorator>=4.3.0 in /usr/local/lib/python3.6/dist-packages (from networkx>=1.9.0->scikit-fuzzy) (4.4.0)\n",
            "Building wheels for collected packages: scikit-fuzzy\n",
            "  Building wheel for scikit-fuzzy (setup.py) ... \u001b[?25l\u001b[?25hdone\n",
            "  Stored in directory: /root/.cache/pip/wheels/9d/f9/0e/a8de3e98e64bbf828f5e762936ff5a40e72331dbe663470711\n",
            "Successfully built scikit-fuzzy\n",
            "Installing collected packages: scikit-fuzzy\n",
            "Successfully installed scikit-fuzzy-0.4.1\n"
          ],
          "name": "stdout"
        }
      ]
    },
    {
      "cell_type": "code",
      "metadata": {
        "id": "BIF9m2ZW_ePa",
        "colab_type": "code",
        "colab": {}
      },
      "source": [
        "import numpy as np\n",
        "import skfuzzy as fuzz\n",
        "from skfuzzy import control as ctrl\n",
        "import matplotlib.pyplot as plt\n",
        "%matplotlib inline"
      ],
      "execution_count": 0,
      "outputs": []
    },
    {
      "cell_type": "code",
      "metadata": {
        "id": "NfpVJyuFUTkK",
        "colab_type": "code",
        "colab": {}
      },
      "source": [
        "class FuzzyPy():\n",
        "    # Defines TRiangular membership finction f:x->y, with 'a' and 'c' the base of triangle and 'b' is peak\n",
        "    def trimf(self, x, a, b, c):\n",
        "        X1 = (x - a) / (b - a)\n",
        "        X2 = (c - x) / (c - b)\n",
        "        X3 = np.minimum(X1, X2)\n",
        "        X4 = np.zeros(x.size)\n",
        "        y = np.maximum(X3, X4)\n",
        "        return y\n",
        "\n",
        "    # Defines Trapezoidal membership finction f:x->y, with 'a' and 'd' the base of trpezoid and 'b' and 'c' the shoulder\n",
        "    def trapmf(self, x, a, b, c, d):\n",
        "        X1 = (x - a) / (b - a)\n",
        "        X2 = np.ones(x.size)\n",
        "        X3 = (d - x) / (d - c)\n",
        "        X4 = np.minimum(np.minimum(X1, X2), X3)\n",
        "        X5 = np.zeros(x.size)\n",
        "        y = np.maximum(X4, X5)\n",
        "        return y\n",
        "\n",
        "    def gaussmf(self, x, c, v):\n",
        "        \"\"\"Compute Gaussian Membership function. \"\"\"\n",
        "        y = [np.exp(-np.power((i - c) , 2) / (2 * v ** 2.0)) for i in x]\n",
        "        return y\n",
        "    \n",
        "    def softmax(x):\n",
        "        \"\"\"Compute softmax values for each sets of scores in x.\"\"\"\n",
        "        return np.exp(x)/np.sum(np.exp(x), axis=0)\n",
        "    \n",
        "\n",
        "class Triangle(FuzzyPy):\n",
        "    def __init__(self, x, low, middle, high):\n",
        "        self.low = self.trimf(x, low[0], low[1], low[2])\n",
        "        self.middle = self.trimf(x, middle[0], middle[1], middle[2])\n",
        "        self.high = self.trimf(x, high[0], high[1], high[2])\n",
        "\n",
        "class Triangle5(FuzzyPy):\n",
        "    def __init__(self, x, low2,low1, middle, high1,high2):\n",
        "        self.low2 = self.trimf(x, low2[0], low2[1], low2[2])\n",
        "        self.low1 = self.trimf(x, low1[0], low1[1], low1[2])\n",
        "        self.middle = self.trimf(x, middle[0], middle[1], middle[2])\n",
        "        self.high1 = self.trimf(x, high1[0], high1[1], high1[2])\n",
        "        self.high2 = self.trimf(x, high2[0], high2[1], high2[2])\n",
        "\n",
        "class Trapezoid(FuzzyPy):\n",
        "    def __init__(self, x, low, middle, high):\n",
        "        self.low = self.trapmf(x, low[0], low[1], low[2], low[3])\n",
        "        self.middle = self.trapmf(x, middle[0], middle[1], middle[2], middle[3])\n",
        "        self.high = self.trapmf(x, high[0], high[1], high[2], high[3])\n",
        "\n",
        "class Trapezoid5(FuzzyPy):\n",
        "    def __init__(self, x, low2,low1, middle, high1,high2):\n",
        "        self.low2 = self.trapmf(x, low2[0], low2[1], low2[2], low2[3])\n",
        "        self.low1 = self.trapmf(x, low1[0], low1[1], low1[2], low1[3])\n",
        "        self.middle = self.trapmf(x, middle[0], middle[1], middle[2], middle[3])\n",
        "        self.high1 = self.trapmf(x, high1[0], high1[1], high1[2], high1[3])\n",
        "        self.high2 = self.trapmf(x, high2[0], high2[1], high2[2], high2[3])\n",
        "\n",
        "class Gauss(FuzzyPy):\n",
        "    def __init__(self, x, low, middle, high):\n",
        "        self.low = self.gaussmf(x, low[0], low[1])\n",
        "        self.middle = self.gaussmf(x, middle[0], middle[1])\n",
        "        self.high = self.gaussmf(x, high[0], high[1])\n",
        "\n",
        "class Gauss5(FuzzyPy):\n",
        "    def __init__(self, x, low2,low1, middle, high1,high2):\n",
        "        self.low2 = self.gaussmf(x, low2[0], low2[1])\n",
        "        self.low1 = self.gaussmf(x, low1[0], low1[1])\n",
        "        self.middle = self.gaussmf(x, middle[0], middle[1])\n",
        "        self.high1 = self.gaussmf(x, high1[0], high1[1])\n",
        "        self.high2 = self.gaussmf(x, high2[0], high2[1])\n",
        "        \n",
        "  ## Operators Defined\n",
        "\n",
        "def intersect(A,B):\n",
        "     \"\"\"Intersect two membership functions\"\"\"\n",
        "     return np.minimum(A,B)\n",
        "\n",
        "\n",
        "def union(A, B):\n",
        "    \"\"\"Union of two membership functions\"\"\"\n",
        "    return np.maximum(A, B)\n",
        "\n",
        "def complement(A):\n",
        "    \"\"\"complement of membership\"\"\"\n",
        "    return 1-A\n",
        "\n",
        "def alphaCut(A,a):\n",
        "    \"\"\"Alpha cut on membership function\"\"\"\n",
        "    from copy import deepcopy\n",
        "    B = deepcopy(A)\n",
        "    B[(B < a)]= 0\n",
        "    return B\n",
        "\n",
        "def add(A,B):\n",
        "    \"\"\"Adds two fuzzy membership functions/sets\"\"\"\n",
        "    return np.minimum(A+B,1)\n",
        "\n",
        "\n",
        "def sub(A,B):\n",
        "    \"\"\"Subtracts two fuzzy membership functions/sets\"\"\"\n",
        "    return np.maximum(A-B,0)"
      ],
      "execution_count": 0,
      "outputs": []
    },
    {
      "cell_type": "code",
      "metadata": {
        "id": "sL_lZwp4WJSW",
        "colab_type": "code",
        "colab": {}
      },
      "source": [
        "def defuzz(x, mfx):\n",
        "   \n",
        "    sum_moment_area = 0.0\n",
        "    sum_area = 0.0\n",
        "\n",
        "    # If the membership function is a singleton fuzzy set:\n",
        "    if len(x) == 1:\n",
        "        return x[0]*mfx[0] / np.fmax(mfx[0], np.finfo(float).eps).astype(float)\n",
        "\n",
        "    # else return the sum of moment*area/sum of area\n",
        "    for i in range(1, len(x)):\n",
        "        x1 = x[i - 1]\n",
        "        x2 = x[i]\n",
        "        y1 = mfx[i - 1]\n",
        "        y2 = mfx[i]\n",
        "\n",
        "        # if y1 == y2 == 0.0 or x1==x2: --> rectangle of zero height or width\n",
        "        if not(y1 == y2 == 0.0 or x1 == x2):\n",
        "            if y1 == y2:  # rectangle\n",
        "                moment = 0.5 * (x1 + x2)\n",
        "                area = (x2 - x1) * y1\n",
        "            elif y1 == 0.0 and y2 != 0.0:  # triangle, height y2\n",
        "                moment = 2.0 / 3.0 * (x2-x1) + x1\n",
        "                area = 0.5 * (x2 - x1) * y2\n",
        "            elif y2 == 0.0 and y1 != 0.0:  # triangle, height y1\n",
        "                moment = 1.0 / 3.0 * (x2 - x1) + x1\n",
        "                area = 0.5 * (x2 - x1) * y1\n",
        "            else:\n",
        "                moment = (2.0 / 3.0 * (x2-x1) * (y2 + 0.5*y1)) / (y1+y2) + x1\n",
        "                area = 0.5 * (x2 - x1) * (y1 + y2)\n",
        "\n",
        "            sum_moment_area += moment * area\n",
        "            sum_area += area\n",
        "\n",
        "    return sum_moment_area / np.fmax(sum_area,\n",
        "np.finfo(float).eps).astype(float)"
      ],
      "execution_count": 0,
      "outputs": []
    },
    {
      "cell_type": "code",
      "metadata": {
        "id": "WqI3whjTAdFU",
        "colab_type": "code",
        "colab": {}
      },
      "source": [
        "volume = ctrl.Antecedent(np.arange(8, 21, 1), 'volume')\n",
        "temperature = ctrl.Antecedent(np.arange(-18, 0, 1), 'temperature')\n",
        "output = ctrl.Consequent(np.arange(0, 7, 1), 'output')"
      ],
      "execution_count": 0,
      "outputs": []
    },
    {
      "cell_type": "code",
      "metadata": {
        "id": "t6PKlWaPBSJM",
        "colab_type": "code",
        "colab": {}
      },
      "source": [
        "volume['small']=fuzz.trimf(volume.universe, [8, 9, 10])\n",
        "volume['medium']=fuzz.trimf(volume.universe, [11, 13, 15])\n",
        "volume['large']=fuzz.trimf(volume.universe, [15, 18, 21])"
      ],
      "execution_count": 0,
      "outputs": []
    },
    {
      "cell_type": "code",
      "metadata": {
        "id": "hUmcfkhoptGi",
        "colab_type": "code",
        "colab": {}
      },
      "source": [
        "temperature['low']=fuzz.trimf(temperature.universe, [-18, -12, -9])\n",
        "temperature['medium']=fuzz.trimf(temperature.universe, [-9, -6, -3])\n",
        "temperature['high']=fuzz.trimf(temperature.universe, [-3, -1, 0])"
      ],
      "execution_count": 0,
      "outputs": []
    },
    {
      "cell_type": "code",
      "metadata": {
        "id": "qdRf8haR96qQ",
        "colab_type": "code",
        "colab": {}
      },
      "source": [
        "output['low'] = fuzz.trimf(output.universe, [0, 1, 2])\n",
        "output['medium'] = fuzz.trimf(output.universe, [2, 3, 5])\n",
        "output['high'] = fuzz.trimf(output.universe, [5, 6, 7])"
      ],
      "execution_count": 0,
      "outputs": []
    },
    {
      "cell_type": "code",
      "metadata": {
        "id": "6slL2JAyC2FT",
        "colab_type": "code",
        "colab": {}
      },
      "source": [
        "#volume['medium'].view()"
      ],
      "execution_count": 0,
      "outputs": []
    },
    {
      "cell_type": "code",
      "metadata": {
        "id": "U38mAEnCC8Np",
        "colab_type": "code",
        "colab": {}
      },
      "source": [
        "#temperature.view()"
      ],
      "execution_count": 0,
      "outputs": []
    },
    {
      "cell_type": "code",
      "metadata": {
        "id": "XGrM0T3Wj4WU",
        "colab_type": "code",
        "colab": {}
      },
      "source": [
        "#The higher number of knob means the colder environment of a refrigerator \n",
        "rule1 = ctrl.Rule(volume['small'] | temperature['low'], output['low'])\n",
        "rule2 = ctrl.Rule(volume['medium'], output['medium'])\n",
        "rule3 = ctrl.Rule(volume['large'] | temperature['high'], output['high'])\n",
        "rule4 = ctrl.Rule(temperature['high'], output['high'])"
      ],
      "execution_count": 0,
      "outputs": []
    },
    {
      "cell_type": "code",
      "metadata": {
        "id": "ldBlzkZ_km_Z",
        "colab_type": "code",
        "colab": {}
      },
      "source": [
        "tipping_ctrl = ctrl.ControlSystem([rule1, rule2, rule3])"
      ],
      "execution_count": 0,
      "outputs": []
    },
    {
      "cell_type": "code",
      "metadata": {
        "id": "cidWoPO1ktiR",
        "colab_type": "code",
        "colab": {}
      },
      "source": [
        "tipping = ctrl.ControlSystemSimulation(tipping_ctrl)"
      ],
      "execution_count": 0,
      "outputs": []
    },
    {
      "cell_type": "code",
      "metadata": {
        "id": "6PXCq5Snkwkf",
        "colab_type": "code",
        "colab": {}
      },
      "source": [
        "#input volume=16 cm cube\n",
        "#input temperature= -2 degree celcius\n",
        "tipping.input['volume'] = 16\n",
        "tipping.input['temperature'] = -2\n",
        "\n",
        "# Crunch the numbers\n",
        "tipping.compute()"
      ],
      "execution_count": 0,
      "outputs": []
    },
    {
      "cell_type": "code",
      "metadata": {
        "id": "1XuK5IOCXjn1",
        "colab_type": "code",
        "colab": {}
      },
      "source": [
        "#defuzzification by COG\n",
        "#tipping.defuzz()"
      ],
      "execution_count": 0,
      "outputs": []
    },
    {
      "cell_type": "code",
      "metadata": {
        "id": "LNedHtTpn53K",
        "colab_type": "code",
        "outputId": "8b2d8f37-e676-4fdd-d849-625cae693ecb",
        "colab": {
          "base_uri": "https://localhost:8080/",
          "height": 35
        }
      },
      "source": [
        "print(\"Cool Knob Position is=\",tipping.output['output'])\n",
        "#output.view(sim=tipping)"
      ],
      "execution_count": 17,
      "outputs": [
        {
          "output_type": "stream",
          "text": [
            "Cool Knob Position is= 5.611111111111111\n"
          ],
          "name": "stdout"
        }
      ]
    },
    {
      "cell_type": "code",
      "metadata": {
        "id": "ced23ll5oOOe",
        "colab_type": "code",
        "colab": {}
      },
      "source": [
        ""
      ],
      "execution_count": 0,
      "outputs": []
    }
  ]
}